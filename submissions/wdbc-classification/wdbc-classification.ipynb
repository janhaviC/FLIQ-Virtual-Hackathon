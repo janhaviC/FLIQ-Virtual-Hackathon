{
  "cells": [
    {
      "cell_type": "code",
      "execution_count": 1,
      "metadata": {
        "colab": {
          "base_uri": "https://localhost:8080/"
        },
        "id": "epPc3aiKLj1r",
        "outputId": "0887ce35-9764-4466-e911-9e313a221e3c",
        "collapsed": true
      },
      "outputs": [
        {
          "output_type": "stream",
          "name": "stdout",
          "text": [
            "Collecting pennylane\n",
            "  Downloading PennyLane-0.41.1-py3-none-any.whl.metadata (10 kB)\n",
            "Requirement already satisfied: numpy in /usr/local/lib/python3.11/dist-packages (from pennylane) (2.0.2)\n",
            "Requirement already satisfied: scipy in /usr/local/lib/python3.11/dist-packages (from pennylane) (1.15.3)\n",
            "Requirement already satisfied: networkx in /usr/local/lib/python3.11/dist-packages (from pennylane) (3.4.2)\n",
            "Collecting rustworkx>=0.14.0 (from pennylane)\n",
            "  Downloading rustworkx-0.16.0-cp39-abi3-manylinux_2_17_x86_64.manylinux2014_x86_64.whl.metadata (10 kB)\n",
            "Requirement already satisfied: autograd in /usr/local/lib/python3.11/dist-packages (from pennylane) (1.8.0)\n",
            "Collecting tomlkit (from pennylane)\n",
            "  Downloading tomlkit-0.13.2-py3-none-any.whl.metadata (2.7 kB)\n",
            "Collecting appdirs (from pennylane)\n",
            "  Downloading appdirs-1.4.4-py2.py3-none-any.whl.metadata (9.0 kB)\n",
            "Collecting autoray>=0.6.11 (from pennylane)\n",
            "  Downloading autoray-0.7.1-py3-none-any.whl.metadata (5.8 kB)\n",
            "Requirement already satisfied: cachetools in /usr/local/lib/python3.11/dist-packages (from pennylane) (5.5.2)\n",
            "Collecting pennylane-lightning>=0.41 (from pennylane)\n",
            "  Downloading pennylane_lightning-0.41.1-cp311-cp311-manylinux_2_28_x86_64.whl.metadata (12 kB)\n",
            "Requirement already satisfied: requests in /usr/local/lib/python3.11/dist-packages (from pennylane) (2.32.3)\n",
            "Requirement already satisfied: typing-extensions in /usr/local/lib/python3.11/dist-packages (from pennylane) (4.13.2)\n",
            "Requirement already satisfied: packaging in /usr/local/lib/python3.11/dist-packages (from pennylane) (24.2)\n",
            "Collecting diastatic-malt (from pennylane)\n",
            "  Downloading diastatic_malt-2.15.2-py3-none-any.whl.metadata (2.6 kB)\n",
            "Collecting scipy-openblas32>=0.3.26 (from pennylane-lightning>=0.41->pennylane)\n",
            "  Downloading scipy_openblas32-0.3.29.0.0-py3-none-manylinux_2_17_x86_64.manylinux2014_x86_64.whl.metadata (56 kB)\n",
            "\u001b[2K     \u001b[90m━━━━━━━━━━━━━━━━━━━━━━━━━━━━━━━━━━━━━━━━\u001b[0m \u001b[32m56.1/56.1 kB\u001b[0m \u001b[31m1.1 MB/s\u001b[0m eta \u001b[36m0:00:00\u001b[0m\n",
            "\u001b[?25hRequirement already satisfied: astunparse in /usr/local/lib/python3.11/dist-packages (from diastatic-malt->pennylane) (1.6.3)\n",
            "Requirement already satisfied: gast in /usr/local/lib/python3.11/dist-packages (from diastatic-malt->pennylane) (0.6.0)\n",
            "Requirement already satisfied: termcolor in /usr/local/lib/python3.11/dist-packages (from diastatic-malt->pennylane) (3.1.0)\n",
            "Requirement already satisfied: charset-normalizer<4,>=2 in /usr/local/lib/python3.11/dist-packages (from requests->pennylane) (3.4.2)\n",
            "Requirement already satisfied: idna<4,>=2.5 in /usr/local/lib/python3.11/dist-packages (from requests->pennylane) (3.10)\n",
            "Requirement already satisfied: urllib3<3,>=1.21.1 in /usr/local/lib/python3.11/dist-packages (from requests->pennylane) (2.4.0)\n",
            "Requirement already satisfied: certifi>=2017.4.17 in /usr/local/lib/python3.11/dist-packages (from requests->pennylane) (2025.4.26)\n",
            "Requirement already satisfied: wheel<1.0,>=0.23.0 in /usr/local/lib/python3.11/dist-packages (from astunparse->diastatic-malt->pennylane) (0.45.1)\n",
            "Requirement already satisfied: six<2.0,>=1.6.1 in /usr/local/lib/python3.11/dist-packages (from astunparse->diastatic-malt->pennylane) (1.17.0)\n",
            "Downloading PennyLane-0.41.1-py3-none-any.whl (2.3 MB)\n",
            "\u001b[2K   \u001b[90m━━━━━━━━━━━━━━━━━━━━━━━━━━━━━━━━━━━━━━━━\u001b[0m \u001b[32m2.3/2.3 MB\u001b[0m \u001b[31m32.3 MB/s\u001b[0m eta \u001b[36m0:00:00\u001b[0m\n",
            "\u001b[?25hDownloading autoray-0.7.1-py3-none-any.whl (930 kB)\n",
            "\u001b[2K   \u001b[90m━━━━━━━━━━━━━━━━━━━━━━━━━━━━━━━━━━━━━━━━\u001b[0m \u001b[32m930.8/930.8 kB\u001b[0m \u001b[31m20.2 MB/s\u001b[0m eta \u001b[36m0:00:00\u001b[0m\n",
            "\u001b[?25hDownloading pennylane_lightning-0.41.1-cp311-cp311-manylinux_2_28_x86_64.whl (2.5 MB)\n",
            "\u001b[2K   \u001b[90m━━━━━━━━━━━━━━━━━━━━━━━━━━━━━━━━━━━━━━━━\u001b[0m \u001b[32m2.5/2.5 MB\u001b[0m \u001b[31m31.6 MB/s\u001b[0m eta \u001b[36m0:00:00\u001b[0m\n",
            "\u001b[?25hDownloading rustworkx-0.16.0-cp39-abi3-manylinux_2_17_x86_64.manylinux2014_x86_64.whl (2.1 MB)\n",
            "\u001b[2K   \u001b[90m━━━━━━━━━━━━━━━━━━━━━━━━━━━━━━━━━━━━━━━━\u001b[0m \u001b[32m2.1/2.1 MB\u001b[0m \u001b[31m28.9 MB/s\u001b[0m eta \u001b[36m0:00:00\u001b[0m\n",
            "\u001b[?25hDownloading appdirs-1.4.4-py2.py3-none-any.whl (9.6 kB)\n",
            "Downloading diastatic_malt-2.15.2-py3-none-any.whl (167 kB)\n",
            "\u001b[2K   \u001b[90m━━━━━━━━━━━━━━━━━━━━━━━━━━━━━━━━━━━━━━━━\u001b[0m \u001b[32m167.9/167.9 kB\u001b[0m \u001b[31m12.6 MB/s\u001b[0m eta \u001b[36m0:00:00\u001b[0m\n",
            "\u001b[?25hDownloading tomlkit-0.13.2-py3-none-any.whl (37 kB)\n",
            "Downloading scipy_openblas32-0.3.29.0.0-py3-none-manylinux_2_17_x86_64.manylinux2014_x86_64.whl (8.6 MB)\n",
            "\u001b[2K   \u001b[90m━━━━━━━━━━━━━━━━━━━━━━━━━━━━━━━━━━━━━━━━\u001b[0m \u001b[32m8.6/8.6 MB\u001b[0m \u001b[31m41.5 MB/s\u001b[0m eta \u001b[36m0:00:00\u001b[0m\n",
            "\u001b[?25hInstalling collected packages: appdirs, tomlkit, scipy-openblas32, rustworkx, autoray, diastatic-malt, pennylane-lightning, pennylane\n",
            "Successfully installed appdirs-1.4.4 autoray-0.7.1 diastatic-malt-2.15.2 pennylane-0.41.1 pennylane-lightning-0.41.1 rustworkx-0.16.0 scipy-openblas32-0.3.29.0.0 tomlkit-0.13.2\n",
            "Requirement already satisfied: pennylane in /usr/local/lib/python3.11/dist-packages (0.41.1)\n",
            "Requirement already satisfied: numpy in /usr/local/lib/python3.11/dist-packages (from pennylane) (2.0.2)\n",
            "Requirement already satisfied: scipy in /usr/local/lib/python3.11/dist-packages (from pennylane) (1.15.3)\n",
            "Requirement already satisfied: networkx in /usr/local/lib/python3.11/dist-packages (from pennylane) (3.4.2)\n",
            "Requirement already satisfied: rustworkx>=0.14.0 in /usr/local/lib/python3.11/dist-packages (from pennylane) (0.16.0)\n",
            "Requirement already satisfied: autograd in /usr/local/lib/python3.11/dist-packages (from pennylane) (1.8.0)\n",
            "Requirement already satisfied: tomlkit in /usr/local/lib/python3.11/dist-packages (from pennylane) (0.13.2)\n",
            "Requirement already satisfied: appdirs in /usr/local/lib/python3.11/dist-packages (from pennylane) (1.4.4)\n",
            "Requirement already satisfied: autoray>=0.6.11 in /usr/local/lib/python3.11/dist-packages (from pennylane) (0.7.1)\n",
            "Requirement already satisfied: cachetools in /usr/local/lib/python3.11/dist-packages (from pennylane) (5.5.2)\n",
            "Requirement already satisfied: pennylane-lightning>=0.41 in /usr/local/lib/python3.11/dist-packages (from pennylane) (0.41.1)\n",
            "Requirement already satisfied: requests in /usr/local/lib/python3.11/dist-packages (from pennylane) (2.32.3)\n",
            "Requirement already satisfied: typing-extensions in /usr/local/lib/python3.11/dist-packages (from pennylane) (4.13.2)\n",
            "Requirement already satisfied: packaging in /usr/local/lib/python3.11/dist-packages (from pennylane) (24.2)\n",
            "Requirement already satisfied: diastatic-malt in /usr/local/lib/python3.11/dist-packages (from pennylane) (2.15.2)\n",
            "Requirement already satisfied: scipy-openblas32>=0.3.26 in /usr/local/lib/python3.11/dist-packages (from pennylane-lightning>=0.41->pennylane) (0.3.29.0.0)\n",
            "Requirement already satisfied: astunparse in /usr/local/lib/python3.11/dist-packages (from diastatic-malt->pennylane) (1.6.3)\n",
            "Requirement already satisfied: gast in /usr/local/lib/python3.11/dist-packages (from diastatic-malt->pennylane) (0.6.0)\n",
            "Requirement already satisfied: termcolor in /usr/local/lib/python3.11/dist-packages (from diastatic-malt->pennylane) (3.1.0)\n",
            "Requirement already satisfied: charset-normalizer<4,>=2 in /usr/local/lib/python3.11/dist-packages (from requests->pennylane) (3.4.2)\n",
            "Requirement already satisfied: idna<4,>=2.5 in /usr/local/lib/python3.11/dist-packages (from requests->pennylane) (3.10)\n",
            "Requirement already satisfied: urllib3<3,>=1.21.1 in /usr/local/lib/python3.11/dist-packages (from requests->pennylane) (2.4.0)\n",
            "Requirement already satisfied: certifi>=2017.4.17 in /usr/local/lib/python3.11/dist-packages (from requests->pennylane) (2025.4.26)\n",
            "Requirement already satisfied: wheel<1.0,>=0.23.0 in /usr/local/lib/python3.11/dist-packages (from astunparse->diastatic-malt->pennylane) (0.45.1)\n",
            "Requirement already satisfied: six<2.0,>=1.6.1 in /usr/local/lib/python3.11/dist-packages (from astunparse->diastatic-malt->pennylane) (1.17.0)\n",
            "Collecting qiskit\n",
            "  Downloading qiskit-2.0.1-cp39-abi3-manylinux_2_17_x86_64.manylinux2014_x86_64.whl.metadata (12 kB)\n",
            "Requirement already satisfied: torch in /usr/local/lib/python3.11/dist-packages (2.6.0+cu124)\n",
            "Requirement already satisfied: numpy in /usr/local/lib/python3.11/dist-packages (2.0.2)\n",
            "Requirement already satisfied: pandas in /usr/local/lib/python3.11/dist-packages (2.2.2)\n",
            "Requirement already satisfied: rustworkx>=0.15.0 in /usr/local/lib/python3.11/dist-packages (from qiskit) (0.16.0)\n",
            "Requirement already satisfied: scipy>=1.5 in /usr/local/lib/python3.11/dist-packages (from qiskit) (1.15.3)\n",
            "Requirement already satisfied: sympy>=1.3 in /usr/local/lib/python3.11/dist-packages (from qiskit) (1.13.1)\n",
            "Requirement already satisfied: dill>=0.3 in /usr/local/lib/python3.11/dist-packages (from qiskit) (0.3.7)\n",
            "Requirement already satisfied: python-dateutil>=2.8.0 in /usr/local/lib/python3.11/dist-packages (from qiskit) (2.9.0.post0)\n",
            "Collecting stevedore>=3.0.0 (from qiskit)\n",
            "  Downloading stevedore-5.4.1-py3-none-any.whl.metadata (2.3 kB)\n",
            "Requirement already satisfied: typing-extensions in /usr/local/lib/python3.11/dist-packages (from qiskit) (4.13.2)\n",
            "Collecting symengine<0.14,>=0.11 (from qiskit)\n",
            "  Downloading symengine-0.13.0-cp311-cp311-manylinux_2_17_x86_64.manylinux2014_x86_64.whl.metadata (1.2 kB)\n",
            "Requirement already satisfied: filelock in /usr/local/lib/python3.11/dist-packages (from torch) (3.18.0)\n",
            "Requirement already satisfied: networkx in /usr/local/lib/python3.11/dist-packages (from torch) (3.4.2)\n",
            "Requirement already satisfied: jinja2 in /usr/local/lib/python3.11/dist-packages (from torch) (3.1.6)\n",
            "Requirement already satisfied: fsspec in /usr/local/lib/python3.11/dist-packages (from torch) (2025.3.2)\n",
            "Collecting nvidia-cuda-nvrtc-cu12==12.4.127 (from torch)\n",
            "  Downloading nvidia_cuda_nvrtc_cu12-12.4.127-py3-none-manylinux2014_x86_64.whl.metadata (1.5 kB)\n",
            "Collecting nvidia-cuda-runtime-cu12==12.4.127 (from torch)\n",
            "  Downloading nvidia_cuda_runtime_cu12-12.4.127-py3-none-manylinux2014_x86_64.whl.metadata (1.5 kB)\n",
            "Collecting nvidia-cuda-cupti-cu12==12.4.127 (from torch)\n",
            "  Downloading nvidia_cuda_cupti_cu12-12.4.127-py3-none-manylinux2014_x86_64.whl.metadata (1.6 kB)\n",
            "Collecting nvidia-cudnn-cu12==9.1.0.70 (from torch)\n",
            "  Downloading nvidia_cudnn_cu12-9.1.0.70-py3-none-manylinux2014_x86_64.whl.metadata (1.6 kB)\n",
            "Collecting nvidia-cublas-cu12==12.4.5.8 (from torch)\n",
            "  Downloading nvidia_cublas_cu12-12.4.5.8-py3-none-manylinux2014_x86_64.whl.metadata (1.5 kB)\n",
            "Collecting nvidia-cufft-cu12==11.2.1.3 (from torch)\n",
            "  Downloading nvidia_cufft_cu12-11.2.1.3-py3-none-manylinux2014_x86_64.whl.metadata (1.5 kB)\n",
            "Collecting nvidia-curand-cu12==10.3.5.147 (from torch)\n",
            "  Downloading nvidia_curand_cu12-10.3.5.147-py3-none-manylinux2014_x86_64.whl.metadata (1.5 kB)\n",
            "Collecting nvidia-cusolver-cu12==11.6.1.9 (from torch)\n",
            "  Downloading nvidia_cusolver_cu12-11.6.1.9-py3-none-manylinux2014_x86_64.whl.metadata (1.6 kB)\n",
            "Collecting nvidia-cusparse-cu12==12.3.1.170 (from torch)\n",
            "  Downloading nvidia_cusparse_cu12-12.3.1.170-py3-none-manylinux2014_x86_64.whl.metadata (1.6 kB)\n",
            "Requirement already satisfied: nvidia-cusparselt-cu12==0.6.2 in /usr/local/lib/python3.11/dist-packages (from torch) (0.6.2)\n",
            "Requirement already satisfied: nvidia-nccl-cu12==2.21.5 in /usr/local/lib/python3.11/dist-packages (from torch) (2.21.5)\n",
            "Requirement already satisfied: nvidia-nvtx-cu12==12.4.127 in /usr/local/lib/python3.11/dist-packages (from torch) (12.4.127)\n",
            "Collecting nvidia-nvjitlink-cu12==12.4.127 (from torch)\n",
            "  Downloading nvidia_nvjitlink_cu12-12.4.127-py3-none-manylinux2014_x86_64.whl.metadata (1.5 kB)\n",
            "Requirement already satisfied: triton==3.2.0 in /usr/local/lib/python3.11/dist-packages (from torch) (3.2.0)\n",
            "Requirement already satisfied: mpmath<1.4,>=1.1.0 in /usr/local/lib/python3.11/dist-packages (from sympy>=1.3->qiskit) (1.3.0)\n",
            "Requirement already satisfied: pytz>=2020.1 in /usr/local/lib/python3.11/dist-packages (from pandas) (2025.2)\n",
            "Requirement already satisfied: tzdata>=2022.7 in /usr/local/lib/python3.11/dist-packages (from pandas) (2025.2)\n",
            "Requirement already satisfied: six>=1.5 in /usr/local/lib/python3.11/dist-packages (from python-dateutil>=2.8.0->qiskit) (1.17.0)\n",
            "Collecting pbr>=2.0.0 (from stevedore>=3.0.0->qiskit)\n",
            "  Downloading pbr-6.1.1-py2.py3-none-any.whl.metadata (3.4 kB)\n",
            "Requirement already satisfied: MarkupSafe>=2.0 in /usr/local/lib/python3.11/dist-packages (from jinja2->torch) (3.0.2)\n",
            "Requirement already satisfied: setuptools in /usr/local/lib/python3.11/dist-packages (from pbr>=2.0.0->stevedore>=3.0.0->qiskit) (75.2.0)\n",
            "Downloading qiskit-2.0.1-cp39-abi3-manylinux_2_17_x86_64.manylinux2014_x86_64.whl (6.5 MB)\n",
            "\u001b[2K   \u001b[90m━━━━━━━━━━━━━━━━━━━━━━━━━━━━━━━━━━━━━━━━\u001b[0m \u001b[32m6.5/6.5 MB\u001b[0m \u001b[31m68.4 MB/s\u001b[0m eta \u001b[36m0:00:00\u001b[0m\n",
            "\u001b[?25hDownloading nvidia_cublas_cu12-12.4.5.8-py3-none-manylinux2014_x86_64.whl (363.4 MB)\n",
            "\u001b[2K   \u001b[90m━━━━━━━━━━━━━━━━━━━━━━━━━━━━━━━━━━━━━━━━\u001b[0m \u001b[32m363.4/363.4 MB\u001b[0m \u001b[31m4.4 MB/s\u001b[0m eta \u001b[36m0:00:00\u001b[0m\n",
            "\u001b[?25hDownloading nvidia_cuda_cupti_cu12-12.4.127-py3-none-manylinux2014_x86_64.whl (13.8 MB)\n",
            "\u001b[2K   \u001b[90m━━━━━━━━━━━━━━━━━━━━━━━━━━━━━━━━━━━━━━━━\u001b[0m \u001b[32m13.8/13.8 MB\u001b[0m \u001b[31m105.1 MB/s\u001b[0m eta \u001b[36m0:00:00\u001b[0m\n",
            "\u001b[?25hDownloading nvidia_cuda_nvrtc_cu12-12.4.127-py3-none-manylinux2014_x86_64.whl (24.6 MB)\n",
            "\u001b[2K   \u001b[90m━━━━━━━━━━━━━━━━━━━━━━━━━━━━━━━━━━━━━━━━\u001b[0m \u001b[32m24.6/24.6 MB\u001b[0m \u001b[31m81.9 MB/s\u001b[0m eta \u001b[36m0:00:00\u001b[0m\n",
            "\u001b[?25hDownloading nvidia_cuda_runtime_cu12-12.4.127-py3-none-manylinux2014_x86_64.whl (883 kB)\n",
            "\u001b[2K   \u001b[90m━━━━━━━━━━━━━━━━━━━━━━━━━━━━━━━━━━━━━━━━\u001b[0m \u001b[32m883.7/883.7 kB\u001b[0m \u001b[31m48.9 MB/s\u001b[0m eta \u001b[36m0:00:00\u001b[0m\n",
            "\u001b[?25hDownloading nvidia_cudnn_cu12-9.1.0.70-py3-none-manylinux2014_x86_64.whl (664.8 MB)\n",
            "\u001b[2K   \u001b[90m━━━━━━━━━━━━━━━━━━━━━━━━━━━━━━━━━━━━━━━━\u001b[0m \u001b[32m664.8/664.8 MB\u001b[0m \u001b[31m1.0 MB/s\u001b[0m eta \u001b[36m0:00:00\u001b[0m\n",
            "\u001b[?25hDownloading nvidia_cufft_cu12-11.2.1.3-py3-none-manylinux2014_x86_64.whl (211.5 MB)\n",
            "\u001b[2K   \u001b[90m━━━━━━━━━━━━━━━━━━━━━━━━━━━━━━━━━━━━━━━━\u001b[0m \u001b[32m211.5/211.5 MB\u001b[0m \u001b[31m6.0 MB/s\u001b[0m eta \u001b[36m0:00:00\u001b[0m\n",
            "\u001b[?25hDownloading nvidia_curand_cu12-10.3.5.147-py3-none-manylinux2014_x86_64.whl (56.3 MB)\n",
            "\u001b[2K   \u001b[90m━━━━━━━━━━━━━━━━━━━━━━━━━━━━━━━━━━━━━━━━\u001b[0m \u001b[32m56.3/56.3 MB\u001b[0m \u001b[31m12.7 MB/s\u001b[0m eta \u001b[36m0:00:00\u001b[0m\n",
            "\u001b[?25hDownloading nvidia_cusolver_cu12-11.6.1.9-py3-none-manylinux2014_x86_64.whl (127.9 MB)\n",
            "\u001b[2K   \u001b[90m━━━━━━━━━━━━━━━━━━━━━━━━━━━━━━━━━━━━━━━━\u001b[0m \u001b[32m127.9/127.9 MB\u001b[0m \u001b[31m8.3 MB/s\u001b[0m eta \u001b[36m0:00:00\u001b[0m\n",
            "\u001b[?25hDownloading nvidia_cusparse_cu12-12.3.1.170-py3-none-manylinux2014_x86_64.whl (207.5 MB)\n",
            "\u001b[2K   \u001b[90m━━━━━━━━━━━━━━━━━━━━━━━━━━━━━━━━━━━━━━━━\u001b[0m \u001b[32m207.5/207.5 MB\u001b[0m \u001b[31m5.1 MB/s\u001b[0m eta \u001b[36m0:00:00\u001b[0m\n",
            "\u001b[?25hDownloading nvidia_nvjitlink_cu12-12.4.127-py3-none-manylinux2014_x86_64.whl (21.1 MB)\n",
            "\u001b[2K   \u001b[90m━━━━━━━━━━━━━━━━━━━━━━━━━━━━━━━━━━━━━━━━\u001b[0m \u001b[32m21.1/21.1 MB\u001b[0m \u001b[31m48.0 MB/s\u001b[0m eta \u001b[36m0:00:00\u001b[0m\n",
            "\u001b[?25hDownloading stevedore-5.4.1-py3-none-any.whl (49 kB)\n",
            "\u001b[2K   \u001b[90m━━━━━━━━━━━━━━━━━━━━━━━━━━━━━━━━━━━━━━━━\u001b[0m \u001b[32m49.5/49.5 kB\u001b[0m \u001b[31m4.0 MB/s\u001b[0m eta \u001b[36m0:00:00\u001b[0m\n",
            "\u001b[?25hDownloading symengine-0.13.0-cp311-cp311-manylinux_2_17_x86_64.manylinux2014_x86_64.whl (49.7 MB)\n",
            "\u001b[2K   \u001b[90m━━━━━━━━━━━━━━━━━━━━━━━━━━━━━━━━━━━━━━━━\u001b[0m \u001b[32m49.7/49.7 MB\u001b[0m \u001b[31m13.4 MB/s\u001b[0m eta \u001b[36m0:00:00\u001b[0m\n",
            "\u001b[?25hDownloading pbr-6.1.1-py2.py3-none-any.whl (108 kB)\n",
            "\u001b[2K   \u001b[90m━━━━━━━━━━━━━━━━━━━━━━━━━━━━━━━━━━━━━━━━\u001b[0m \u001b[32m109.0/109.0 kB\u001b[0m \u001b[31m6.0 MB/s\u001b[0m eta \u001b[36m0:00:00\u001b[0m\n",
            "\u001b[?25hInstalling collected packages: symengine, pbr, nvidia-nvjitlink-cu12, nvidia-curand-cu12, nvidia-cufft-cu12, nvidia-cuda-runtime-cu12, nvidia-cuda-nvrtc-cu12, nvidia-cuda-cupti-cu12, nvidia-cublas-cu12, stevedore, nvidia-cusparse-cu12, nvidia-cudnn-cu12, qiskit, nvidia-cusolver-cu12\n",
            "  Attempting uninstall: nvidia-nvjitlink-cu12\n",
            "    Found existing installation: nvidia-nvjitlink-cu12 12.5.82\n",
            "    Uninstalling nvidia-nvjitlink-cu12-12.5.82:\n",
            "      Successfully uninstalled nvidia-nvjitlink-cu12-12.5.82\n",
            "  Attempting uninstall: nvidia-curand-cu12\n",
            "    Found existing installation: nvidia-curand-cu12 10.3.6.82\n",
            "    Uninstalling nvidia-curand-cu12-10.3.6.82:\n",
            "      Successfully uninstalled nvidia-curand-cu12-10.3.6.82\n",
            "  Attempting uninstall: nvidia-cufft-cu12\n",
            "    Found existing installation: nvidia-cufft-cu12 11.2.3.61\n",
            "    Uninstalling nvidia-cufft-cu12-11.2.3.61:\n",
            "      Successfully uninstalled nvidia-cufft-cu12-11.2.3.61\n",
            "  Attempting uninstall: nvidia-cuda-runtime-cu12\n",
            "    Found existing installation: nvidia-cuda-runtime-cu12 12.5.82\n",
            "    Uninstalling nvidia-cuda-runtime-cu12-12.5.82:\n",
            "      Successfully uninstalled nvidia-cuda-runtime-cu12-12.5.82\n",
            "  Attempting uninstall: nvidia-cuda-nvrtc-cu12\n",
            "    Found existing installation: nvidia-cuda-nvrtc-cu12 12.5.82\n",
            "    Uninstalling nvidia-cuda-nvrtc-cu12-12.5.82:\n",
            "      Successfully uninstalled nvidia-cuda-nvrtc-cu12-12.5.82\n",
            "  Attempting uninstall: nvidia-cuda-cupti-cu12\n",
            "    Found existing installation: nvidia-cuda-cupti-cu12 12.5.82\n",
            "    Uninstalling nvidia-cuda-cupti-cu12-12.5.82:\n",
            "      Successfully uninstalled nvidia-cuda-cupti-cu12-12.5.82\n",
            "  Attempting uninstall: nvidia-cublas-cu12\n",
            "    Found existing installation: nvidia-cublas-cu12 12.5.3.2\n",
            "    Uninstalling nvidia-cublas-cu12-12.5.3.2:\n",
            "      Successfully uninstalled nvidia-cublas-cu12-12.5.3.2\n",
            "  Attempting uninstall: nvidia-cusparse-cu12\n",
            "    Found existing installation: nvidia-cusparse-cu12 12.5.1.3\n",
            "    Uninstalling nvidia-cusparse-cu12-12.5.1.3:\n",
            "      Successfully uninstalled nvidia-cusparse-cu12-12.5.1.3\n",
            "  Attempting uninstall: nvidia-cudnn-cu12\n",
            "    Found existing installation: nvidia-cudnn-cu12 9.3.0.75\n",
            "    Uninstalling nvidia-cudnn-cu12-9.3.0.75:\n",
            "      Successfully uninstalled nvidia-cudnn-cu12-9.3.0.75\n",
            "  Attempting uninstall: nvidia-cusolver-cu12\n",
            "    Found existing installation: nvidia-cusolver-cu12 11.6.3.83\n",
            "    Uninstalling nvidia-cusolver-cu12-11.6.3.83:\n",
            "      Successfully uninstalled nvidia-cusolver-cu12-11.6.3.83\n",
            "Successfully installed nvidia-cublas-cu12-12.4.5.8 nvidia-cuda-cupti-cu12-12.4.127 nvidia-cuda-nvrtc-cu12-12.4.127 nvidia-cuda-runtime-cu12-12.4.127 nvidia-cudnn-cu12-9.1.0.70 nvidia-cufft-cu12-11.2.1.3 nvidia-curand-cu12-10.3.5.147 nvidia-cusolver-cu12-11.6.1.9 nvidia-cusparse-cu12-12.3.1.170 nvidia-nvjitlink-cu12-12.4.127 pbr-6.1.1 qiskit-2.0.1 stevedore-5.4.1 symengine-0.13.0\n"
          ]
        }
      ],
      "source": [
        "! pip install pennylane\n",
        "! pip install pennylane\n",
        "! pip install qiskit torch numpy pandas"
      ]
    },
    {
      "cell_type": "code",
      "source": [
        "import pandas as pd\n",
        "import csv\n",
        "from sklearn.model_selection import train_test_split\n",
        "from sklearn.metrics import classification_report, confusion_matrix, accuracy_score\n",
        "\n",
        "import pennylane as qml\n",
        "\n",
        "import torch\n",
        "import torch.nn as nn\n",
        "from torch.autograd import Function\n",
        "import numpy as np\n",
        "import pandas as pd\n",
        "from qiskit import QuantumCircuit\n",
        "from qiskit.circuit import ParameterVector\n",
        "from qiskit.primitives import StatevectorEstimator\n",
        "from qiskit.quantum_info import SparsePauliOp\n",
        "\n",
        "import pandas as pd\n",
        "import csv\n",
        "from sklearn.model_selection import train_test_split\n",
        "from sklearn.metrics import classification_report, confusion_matrix, accuracy_score\n",
        "\n",
        "import numpy as np\n",
        "import pandas as pd\n",
        "import torch\n",
        "import torch.nn as nn\n",
        "from sklearn.preprocessing import StandardScaler\n",
        "from sklearn.model_selection import train_test_split\n",
        "from sklearn.decomposition import PCA, KernelPCA\n",
        "from sklearn.linear_model import LogisticRegression\n",
        "from sklearn.ensemble import RandomForestClassifier\n",
        "from sklearn.metrics import accuracy_score, precision_score, recall_score, f1_score, roc_auc_score, confusion_matrix\n",
        "import pennylane as qml\n",
        "\n",
        "import torch\n",
        "import torch.nn as nn\n",
        "import torch.optim as optim\n",
        "import pennylane as qml\n",
        "import numpy as np\n",
        "\n",
        "from torch.utils.data import TensorDataset, DataLoader\n",
        "import datetime\n",
        "\n",
        "import torch\n",
        "import torch.nn as nn\n",
        "import seaborn as sns\n",
        "from matplotlib import pyplot as plt"
      ],
      "metadata": {
        "colab": {
          "base_uri": "https://localhost:8080/"
        },
        "id": "q1Eo1RCguRGg",
        "outputId": "0e8f7a41-8554-4916-9032-12c72e47f6db"
      },
      "execution_count": 1,
      "outputs": [
        {
          "output_type": "stream",
          "name": "stderr",
          "text": [
            "/usr/local/lib/python3.11/dist-packages/pennylane/capture/capture_operators.py:33: RuntimeWarning: PennyLane is not yet compatible with JAX versions > 0.4.28. You have version 0.5.2 installed. Please downgrade JAX to <=0.4.28 to avoid runtime errors.\n",
            "  warnings.warn(\n"
          ]
        }
      ]
    },
    {
      "cell_type": "code",
      "source": [
        "x_train_dataset_name = \"wdbc_train\"\n",
        "x_val_dataset_name = \"wdbc_val\"\n",
        "x_test_dataset_name = \"wdbc_test\"\n",
        "\n",
        "model_name = \"wdbc_model\""
      ],
      "metadata": {
        "id": "kJcPjnFc0Gxp"
      },
      "execution_count": 2,
      "outputs": []
    },
    {
      "cell_type": "markdown",
      "source": [
        "# DataSet Creation\n",
        "\n",
        "Execute the below sections only if we want to create a fresh dataset. We already have datsets snaphots with us so we can directly use that."
      ],
      "metadata": {
        "id": "sVCUW_BAuDSj"
      }
    },
    {
      "cell_type": "code",
      "execution_count": 3,
      "metadata": {
        "colab": {
          "base_uri": "https://localhost:8080/"
        },
        "id": "SFbGxdNZrlEF",
        "outputId": "d7b45050-6506-43fc-9e07-3bc4f017a501"
      },
      "outputs": [
        {
          "output_type": "stream",
          "name": "stdout",
          "text": [
            "--2025-05-17 21:17:25--  https://raw.githubusercontent.com/Meta-user-byte/FLIQ/refs/heads/main/Datasets/breast%2Bcancer%2Bwisconsin%2Bdiagnostic/wdbc.data\n",
            "Resolving raw.githubusercontent.com (raw.githubusercontent.com)... 185.199.108.133, 185.199.109.133, 185.199.110.133, ...\n",
            "Connecting to raw.githubusercontent.com (raw.githubusercontent.com)|185.199.108.133|:443... connected.\n",
            "HTTP request sent, awaiting response... 200 OK\n",
            "Length: 124103 (121K) [text/plain]\n",
            "Saving to: ‘wdbc.data.4’\n",
            "\n",
            "\rwdbc.data.4           0%[                    ]       0  --.-KB/s               \rwdbc.data.4         100%[===================>] 121.19K  --.-KB/s    in 0.02s   \n",
            "\n",
            "2025-05-17 21:17:25 (5.61 MB/s) - ‘wdbc.data.4’ saved [124103/124103]\n",
            "\n"
          ]
        }
      ],
      "source": [
        "! wget https://raw.githubusercontent.com/Meta-user-byte/FLIQ/refs/heads/main/Datasets/breast%2Bcancer%2Bwisconsin%2Bdiagnostic/wdbc.data"
      ]
    },
    {
      "cell_type": "code",
      "execution_count": 4,
      "metadata": {
        "id": "_7R9iWhLrvHV"
      },
      "outputs": [],
      "source": [
        "\n",
        "def data_reader(filepath):\n",
        "    wdbc_columns = [\n",
        "    'id', 'diagnosis',\n",
        "    'radius_mean', 'texture_mean', 'perimeter_mean', 'area_mean', 'smoothness_mean',\n",
        "    'compactness_mean', 'concavity_mean', 'concave_points_mean', 'symmetry_mean', 'fractal_dimension_mean',\n",
        "    'radius_se', 'texture_se', 'perimeter_se', 'area_se', 'smoothness_se',\n",
        "    'compactness_se', 'concavity_se', 'concave_points_se', 'symmetry_se', 'fractal_dimension_se',\n",
        "    'radius_worst', 'texture_worst', 'perimeter_worst', 'area_worst', 'smoothness_worst',\n",
        "    'compactness_worst', 'concavity_worst', 'concave_points_worst', 'symmetry_worst', 'fractal_dimension_worst'\n",
        "    ]\n",
        "    # Detect delimiter\n",
        "    with open(filepath, 'r', encoding='utf-8') as f:\n",
        "        sample = f.read(2048)\n",
        "        sniffer = csv.Sniffer()\n",
        "        dialect = sniffer.sniff(sample)\n",
        "        delimiter = dialect.delimiter\n",
        "        df = pd.read_csv(filepath, delimiter=\",\", names=wdbc_columns)\n",
        "        return df\n",
        "\n",
        "\n",
        "def load_wdbc():\n",
        "  df = data_reader(\"wdbc.data\")\n",
        "  df['diagnosis'] = df['diagnosis'].map({'M': 1, 'B': 0})\n",
        "  train_full = df.sample(frac=0.7)\n",
        "  test_full = df[~df.index.isin(train_full.index)]\n",
        "  X_train_full = train_full.drop(columns=['diagnosis']).values.astype(np.float32)\n",
        "  y_train_full = train_full['diagnosis'].values.astype(np.float32).reshape(-1, 1)\n",
        "  X_test_full = test_full.drop(columns=['diagnosis']).values.astype(np.float32)\n",
        "  y_test_full = test_full['diagnosis'].values.astype(np.float32).reshape(-1, 1)\n",
        "  return X_train_full, y_train_full, X_test_full, y_test_full\n",
        "\n",
        "#Drop the ID column\n",
        "seed = 42\n",
        "X_train_full, y_train_full, X_test_full, y_test = load_wdbc()\n",
        "\n",
        "\n",
        "# Standardize features (fit on training data, apply to train/val/test)\n",
        "scaler = StandardScaler()\n",
        "X_train_full_scaled = scaler.fit_transform(X_train_full)\n",
        "X_test_scaled = scaler.transform(X_test_full)\n",
        "\n",
        "# Split training data into train and validation subsets\n",
        "X_train_scaled, X_val_scaled, y_train, y_val = train_test_split(\n",
        "    X_train_full_scaled, y_train_full, test_size=0.15, stratify=y_train_full, random_state=seed\n",
        ")\n",
        "\n",
        "\n",
        "\n",
        "#Convert to torch tensors\n",
        "X_train = torch.tensor(X_train_scaled, dtype=torch.float32)\n",
        "Y_train = torch.tensor(y_train, dtype=torch.float32)\n",
        "\n",
        "X_val = torch.tensor(X_val_scaled, dtype=torch.float32)\n",
        "Y_val = torch.tensor(y_val, dtype=torch.float32)\n",
        "\n",
        "X_test = torch.tensor(X_test_scaled, dtype=torch.float32)\n",
        "Y_test = torch.tensor(y_test, dtype=torch.float32)\n"
      ]
    },
    {
      "cell_type": "markdown",
      "source": [
        "# Data Loading\n",
        "\n",
        "Load snapshot data for training, validation and testing"
      ],
      "metadata": {
        "id": "-LyEiYrlvR28"
      }
    },
    {
      "cell_type": "code",
      "source": [
        "X_train = torch.load(f\"{x_train_dataset_name}.pt\")\n",
        "Y_train = torch.load(f\"{x_train_dataset_name}_label.pt\")\n",
        "\n",
        "X_val = torch.load(f\"{x_val_dataset_name}.pt\")\n",
        "Y_val = torch.load(f\"{x_val_dataset_name}_label.pt\")\n",
        "\n",
        "X_test = torch.load(f\"{x_test_dataset_name}.pt\")\n",
        "Y_test = torch.load(f\"{x_test_dataset_name}_label.pt\")"
      ],
      "metadata": {
        "id": "gi7WVRD4vcz0"
      },
      "execution_count": 14,
      "outputs": []
    },
    {
      "cell_type": "markdown",
      "source": [
        "# Model Creation\n",
        "\n",
        "Below we will design the model."
      ],
      "metadata": {
        "id": "FKTW2izRwUyP"
      }
    },
    {
      "cell_type": "code",
      "execution_count": 5,
      "metadata": {
        "id": "k7nfwWSEU3fj"
      },
      "outputs": [],
      "source": [
        "def get_pos_weight(labels):\n",
        "    \"\"\"\n",
        "    Calculates the positive class weight based on the distribution of labels.\n",
        "\n",
        "    Args:\n",
        "        labels (torch.Tensor): A 1D tensor of labels (0 and 1).\n",
        "\n",
        "    Returns:\n",
        "        torch.Tensor: A tensor containing the positive class weight.\n",
        "    \"\"\"\n",
        "    positive_count = torch.sum(labels)\n",
        "    negative_count = len(labels) - positive_count\n",
        "    if positive_count > 0:\n",
        "        pos_weight = negative_count / positive_count\n",
        "    else:\n",
        "        pos_weight = torch.tensor(1.0)  # Avoid division by zero\n",
        "    return pos_weight\n"
      ]
    },
    {
      "cell_type": "code",
      "execution_count": 6,
      "metadata": {
        "id": "k0wnUmBar2IR"
      },
      "outputs": [],
      "source": [
        "# 1. Classical Feature Processing Network\n",
        "class ClassicalFeatureExtractor(nn.Module):\n",
        "    def __init__(self, input_size, hidden_size, output_size):\n",
        "        super().__init__()\n",
        "        self.fc1 = nn.Linear(input_size, hidden_size)\n",
        "        self.relu = nn.LeakyReLU(0.01) #nn.ReLU()\n",
        "        self.fc2 = nn.Linear(hidden_size, output_size)\n",
        "\n",
        "    def forward(self, x):\n",
        "        x = self.fc1(x)\n",
        "        x = self.relu(x)\n",
        "        x = self.fc2(x)\n",
        "        return x\n",
        "\n",
        "# 2. Quantum Feature Map (Variational Quantum Circuit)\n",
        "n_qubits = 10  # Reduced number of features after classical processing\n",
        "dev = qml.device(\"default.qubit\", wires=n_qubits)\n",
        "\n",
        "@qml.qnode(dev, interface=\"torch\")\n",
        "def quantum_feature_map(inputs, weights, random_weights):\n",
        "    # Angle embedding of the classical features\n",
        "    qml.AngleEmbedding(inputs, wires=range(n_qubits))\n",
        "\n",
        "\n",
        "    qml.templates.RandomLayers(random_weights, wires=range(n_qubits))\n",
        "    qml.templates.StronglyEntanglingLayers(weights, wires=range(n_qubits))\n",
        "\n",
        "    return qml.expval(qml.PauliZ(0))\n",
        "\n",
        "# 3. Hybrid Model\n",
        "class HybridModel(nn.Module):\n",
        "    def __init__(self, input_size, classical_hidden, quantum_out_size, quantum_weights_shape):\n",
        "        super().__init__()\n",
        "        self.classical_extractor = ClassicalFeatureExtractor(input_size, classical_hidden, quantum_out_size)\n",
        "        self.quantum_weights = nn.Parameter(torch.randn(strongly_entangling_shape))\n",
        "        self.quantum_random_weights = nn.Parameter(torch.randn(random_shape))\n",
        "        self.classical_classifier = nn.Linear(1, 1).float() # Binary classification output (single neuron)\n",
        "        self.sigmoid = nn.Sigmoid()\n",
        "\n",
        "    def forward(self, x):\n",
        "        # Classical feature extraction\n",
        "        processed_features = self.classical_extractor(x)\n",
        "\n",
        "        # Quantum feature map\n",
        "        quantum_output = torch.stack([quantum_feature_map(feature, self.quantum_weights, self.quantum_random_weights) for feature in processed_features])\n",
        "\n",
        "        # Classical classification layer\n",
        "        output = self.classical_classifier(quantum_output.unsqueeze(1).float())\n",
        "        return output\n",
        "\n"
      ]
    },
    {
      "cell_type": "code",
      "source": [
        "\n",
        "input_size = len(X_train[0,:])\n",
        "classical_hidden = 20\n",
        "quantum_out_size = n_qubits\n",
        "layers = 3\n",
        "quantum_weights_shape = (layers, n_qubits) # Example: 2 layers of RY rotations\n",
        "strongly_entangling_shape = qml.StronglyEntanglingLayers.shape(layers, n_qubits)\n",
        "random_shape = qml.RandomLayers.shape(layers, n_qubits)\n",
        "model = HybridModel(input_size, classical_hidden, quantum_out_size, strongly_entangling_shape)\n",
        "\n",
        "# optimizer = optim.Adam(model.parameters(), lr=0.1)\n",
        "\n",
        "criterion = nn.BCEWithLogitsLoss(pos_weight=get_pos_weight(Y_train))\n"
      ],
      "metadata": {
        "id": "7fFtPhYmxBfn"
      },
      "execution_count": 7,
      "outputs": []
    },
    {
      "cell_type": "markdown",
      "source": [
        "# Training\n",
        "\n",
        "Run section to train the model"
      ],
      "metadata": {
        "id": "hnAXWyN-2qgn"
      }
    },
    {
      "cell_type": "code",
      "source": [
        "# 4) Training loop with gradient clipping and scheduler\n",
        "num_epochs = 50\n",
        "optimizer = torch.optim.Adam(\n",
        "    model.parameters(), lr=1e-3, weight_decay=1e-4\n",
        ")\n",
        "scheduler = torch.optim.lr_scheduler.ReduceLROnPlateau(\n",
        "    optimizer, mode=\"min\", factor=0.5, patience=5, min_lr=1e-5, verbose=True\n",
        ")\n",
        "# 3) DataLoader for batching\n",
        "\n",
        "train_ds = TensorDataset(X_train, Y_train)\n",
        "train_loader = DataLoader(train_ds, batch_size=32, shuffle=True)\n",
        "for epoch in range(1, num_epochs+1):\n",
        "    model.train()\n",
        "    total_loss = 0.0\n",
        "    for batch_X, batch_y in train_loader:\n",
        "        optimizer.zero_grad()\n",
        "        logits = model(batch_X)\n",
        "        #print(batch_y, logits)\n",
        "        loss   = criterion(logits, batch_y)\n",
        "        loss.backward()\n",
        "        torch.nn.utils.clip_grad_norm_(model.parameters(), max_norm=1.0)\n",
        "        optimizer.step()\n",
        "        total_loss += loss.item() * batch_X.shape[0]\n",
        "    avg_loss = total_loss / len(train_loader.dataset)\n",
        "\n",
        "    # Validation\n",
        "    model.eval()\n",
        "    with torch.no_grad():\n",
        "        val_logits = model(X_val)\n",
        "        val_loss   = criterion(val_logits, Y_val).item()\n",
        "        val_preds  = (torch.sigmoid(val_logits) >= 0.05).float()\n",
        "        val_acc    = (val_preds == Y_val).float().mean().item()\n",
        "\n",
        "    print(f\"Epoch {epoch:2d} | Train loss {avg_loss:.4f} | Val loss {val_loss:.4f} | Val acc {val_acc:.3f}\")\n",
        "    scheduler.step(val_loss)"
      ],
      "metadata": {
        "colab": {
          "base_uri": "https://localhost:8080/"
        },
        "id": "-_Kfn6sPxTmZ",
        "outputId": "a6ad06f3-6ede-4499-da58-578d346a7dc5"
      },
      "execution_count": 8,
      "outputs": [
        {
          "output_type": "stream",
          "name": "stderr",
          "text": [
            "/usr/local/lib/python3.11/dist-packages/torch/optim/lr_scheduler.py:62: UserWarning: The verbose parameter is deprecated. Please use get_last_lr() to access the learning rate.\n",
            "  warnings.warn(\n"
          ]
        },
        {
          "output_type": "stream",
          "name": "stdout",
          "text": [
            "Epoch  1 | Train loss 0.8925 | Val loss 0.8902 | Val acc 0.383\n",
            "Epoch  2 | Train loss 0.8826 | Val loss 0.8825 | Val acc 0.383\n",
            "Epoch  3 | Train loss 0.8726 | Val loss 0.8730 | Val acc 0.383\n",
            "Epoch  4 | Train loss 0.8606 | Val loss 0.8624 | Val acc 0.383\n",
            "Epoch  5 | Train loss 0.8485 | Val loss 0.8507 | Val acc 0.383\n",
            "Epoch  6 | Train loss 0.8359 | Val loss 0.8395 | Val acc 0.383\n",
            "Epoch  7 | Train loss 0.8234 | Val loss 0.8277 | Val acc 0.383\n",
            "Epoch  8 | Train loss 0.8102 | Val loss 0.8144 | Val acc 0.383\n",
            "Epoch  9 | Train loss 0.7964 | Val loss 0.8017 | Val acc 0.383\n",
            "Epoch 10 | Train loss 0.7825 | Val loss 0.7886 | Val acc 0.383\n",
            "Epoch 11 | Train loss 0.7688 | Val loss 0.7756 | Val acc 0.383\n",
            "Epoch 12 | Train loss 0.7549 | Val loss 0.7634 | Val acc 0.383\n",
            "Epoch 13 | Train loss 0.7408 | Val loss 0.7510 | Val acc 0.383\n",
            "Epoch 14 | Train loss 0.7262 | Val loss 0.7366 | Val acc 0.383\n",
            "Epoch 15 | Train loss 0.7108 | Val loss 0.7213 | Val acc 0.383\n",
            "Epoch 16 | Train loss 0.6938 | Val loss 0.7078 | Val acc 0.383\n",
            "Epoch 17 | Train loss 0.6760 | Val loss 0.6891 | Val acc 0.383\n",
            "Epoch 18 | Train loss 0.6555 | Val loss 0.6702 | Val acc 0.383\n",
            "Epoch 19 | Train loss 0.6349 | Val loss 0.6520 | Val acc 0.383\n",
            "Epoch 20 | Train loss 0.6148 | Val loss 0.6356 | Val acc 0.383\n",
            "Epoch 21 | Train loss 0.5963 | Val loss 0.6192 | Val acc 0.383\n",
            "Epoch 22 | Train loss 0.5799 | Val loss 0.6072 | Val acc 0.383\n",
            "Epoch 23 | Train loss 0.5640 | Val loss 0.5936 | Val acc 0.383\n",
            "Epoch 24 | Train loss 0.5496 | Val loss 0.5808 | Val acc 0.383\n",
            "Epoch 25 | Train loss 0.5359 | Val loss 0.5722 | Val acc 0.383\n",
            "Epoch 26 | Train loss 0.5244 | Val loss 0.5631 | Val acc 0.383\n",
            "Epoch 27 | Train loss 0.5120 | Val loss 0.5515 | Val acc 0.383\n",
            "Epoch 28 | Train loss 0.5013 | Val loss 0.5445 | Val acc 0.383\n",
            "Epoch 29 | Train loss 0.4913 | Val loss 0.5348 | Val acc 0.383\n",
            "Epoch 30 | Train loss 0.4809 | Val loss 0.5262 | Val acc 0.383\n",
            "Epoch 31 | Train loss 0.4711 | Val loss 0.5215 | Val acc 0.383\n",
            "Epoch 32 | Train loss 0.4617 | Val loss 0.5118 | Val acc 0.383\n",
            "Epoch 33 | Train loss 0.4531 | Val loss 0.5061 | Val acc 0.383\n",
            "Epoch 34 | Train loss 0.4447 | Val loss 0.4986 | Val acc 0.383\n",
            "Epoch 35 | Train loss 0.4367 | Val loss 0.4927 | Val acc 0.383\n",
            "Epoch 36 | Train loss 0.4291 | Val loss 0.4885 | Val acc 0.383\n",
            "Epoch 37 | Train loss 0.4209 | Val loss 0.4798 | Val acc 0.383\n",
            "Epoch 38 | Train loss 0.4126 | Val loss 0.4739 | Val acc 0.383\n",
            "Epoch 39 | Train loss 0.4057 | Val loss 0.4649 | Val acc 0.383\n",
            "Epoch 40 | Train loss 0.3985 | Val loss 0.4634 | Val acc 0.383\n",
            "Epoch 41 | Train loss 0.3907 | Val loss 0.4545 | Val acc 0.383\n",
            "Epoch 42 | Train loss 0.3839 | Val loss 0.4489 | Val acc 0.383\n",
            "Epoch 43 | Train loss 0.3773 | Val loss 0.4461 | Val acc 0.383\n",
            "Epoch 44 | Train loss 0.3713 | Val loss 0.4413 | Val acc 0.383\n",
            "Epoch 45 | Train loss 0.3654 | Val loss 0.4377 | Val acc 0.383\n",
            "Epoch 46 | Train loss 0.3601 | Val loss 0.4349 | Val acc 0.383\n",
            "Epoch 47 | Train loss 0.3549 | Val loss 0.4294 | Val acc 0.383\n",
            "Epoch 48 | Train loss 0.3506 | Val loss 0.4268 | Val acc 0.383\n",
            "Epoch 49 | Train loss 0.3453 | Val loss 0.4223 | Val acc 0.383\n",
            "Epoch 50 | Train loss 0.3413 | Val loss 0.4189 | Val acc 0.383\n"
          ]
        }
      ]
    },
    {
      "cell_type": "markdown",
      "source": [
        "# Load Saved Model\n",
        "\n",
        "If we want to load the pre trained model, we can execute this section."
      ],
      "metadata": {
        "id": "F4g_0c0Azuvm"
      }
    },
    {
      "cell_type": "code",
      "source": [
        "model.load_state_dict(torch.load(f\"{model_name}.pt\"))"
      ],
      "metadata": {
        "colab": {
          "base_uri": "https://localhost:8080/"
        },
        "id": "mtsad4tpz7AD",
        "outputId": "459a6432-10bb-48ac-fc6a-6ef004d33275"
      },
      "execution_count": 30,
      "outputs": [
        {
          "output_type": "execute_result",
          "data": {
            "text/plain": [
              "<All keys matched successfully>"
            ]
          },
          "metadata": {},
          "execution_count": 30
        }
      ]
    },
    {
      "cell_type": "markdown",
      "source": [
        "# [ Optional ] Save Model and dataset"
      ],
      "metadata": {
        "id": "jIXTjiExxtdY"
      }
    },
    {
      "cell_type": "code",
      "execution_count": 39,
      "metadata": {
        "id": "BVMHLQ6PsCCv",
        "colab": {
          "base_uri": "https://localhost:8080/"
        },
        "outputId": "7893dc62-5ea9-4170-a70d-a848d56bc2c1"
      },
      "outputs": [
        {
          "output_type": "stream",
          "name": "stdout",
          "text": [
            "Model saved to wdbc_model_2025-05-17 21:00:28.265181.pt\n"
          ]
        }
      ],
      "source": [
        "\n",
        "curr_time = str(datetime.datetime.now())\n",
        "# Save the model's state dictionary\n",
        "model_name = f'wdbc_model_{curr_time}.pt'\n",
        "torch.save(model.state_dict(), model_name)\n",
        "print(f\"Model saved to {model_name}\")\n",
        "\n",
        "# Save the tensors\n",
        "torch.save(X_train, f'wdbc_train_{curr_time}.pt')\n",
        "torch.save(Y_train, f'wdbc_train_label_{curr_time}.pt')\n",
        "\n",
        "torch.save(X_val, f'wdbc_val_{curr_time}.pt')\n",
        "torch.save(Y_val, f'wdbc_val_label_{curr_time}.pt')\n",
        "\n",
        "torch.save(X_test, f'wdbc_test_{curr_time}.pt')\n",
        "torch.save(Y_test, f'wdbc_test_label{curr_time}.pt')\n"
      ]
    },
    {
      "cell_type": "markdown",
      "source": [
        "# Evaluation"
      ],
      "metadata": {
        "id": "JIMx1PGHysap"
      }
    },
    {
      "cell_type": "code",
      "execution_count": 40,
      "metadata": {
        "colab": {
          "base_uri": "https://localhost:8080/",
          "height": 501
        },
        "id": "QJSUA8Yg8CeU",
        "outputId": "827d3cad-36b5-48fa-afb8-046259e0668a"
      },
      "outputs": [
        {
          "output_type": "display_data",
          "data": {
            "text/plain": [
              "<Figure size 600x400 with 2 Axes>"
            ],
            "image/png": "[encoded data removed]"
          },
          "metadata": {}
        },
        {
          "output_type": "stream",
          "name": "stdout",
          "text": [
            "Test Loss: 0.4349\n",
            "Accuracy: 0.9708\n",
            "Precision: 0.9394\n",
            "Recall: 0.9841\n",
            "F1 Score: 0.9612\n"
          ]
        }
      ],
      "source": [
        "\n",
        "\n",
        "from sklearn.metrics import accuracy_score, precision_score, recall_score, f1_score\n",
        "\n",
        "loss_function = criterion\n",
        "\n",
        "def evaluate(model, test_loader, loss_function):\n",
        "    model.eval()  # Set the model to evaluation mode\n",
        "    total_loss = 0\n",
        "    all_predictions = []\n",
        "    all_labels = []\n",
        "\n",
        "    with torch.no_grad():  # Disable gradient calculation during evaluation\n",
        "        for inputs, labels in test_loader:\n",
        "            outputs = model(inputs)  # Get the raw output (logits)\n",
        "            loss = loss_function(outputs, labels.float())  # Calculate the loss\n",
        "            total_loss += loss.item()\n",
        "\n",
        "            probabilities = torch.sigmoid(outputs)  # Apply sigmoid to get probabilities\n",
        "            predictions = (probabilities >= 0.5).long()  # Convert probabilities to predictions\n",
        "            all_predictions.extend(predictions.cpu().numpy())\n",
        "            all_labels.extend(labels.cpu().numpy())\n",
        "            cm = confusion_matrix(labels, predictions)\n",
        "            plt.figure(figsize=(6, 4))\n",
        "            sns.heatmap(cm, annot=True, fmt='d', cmap='Blues')\n",
        "            plt.title(\"Prediction Confusion Matrix\")\n",
        "            plt.xlabel(\"Predicted\")\n",
        "            plt.ylabel(\"Actual\")\n",
        "            plt.show()\n",
        "\n",
        "    avg_loss = total_loss / len(test_loader)\n",
        "    return avg_loss, all_predictions, all_labels\n",
        "\n",
        "\n",
        "avg_test_loss, test_predictions, test_labels = evaluate(model, [[X_test, Y_test]], loss_function)\n",
        "\n",
        "# Now we can use test_predictions and test_labels to calculate metrics:\n",
        "\n",
        "accuracy = accuracy_score(test_labels, test_predictions)\n",
        "precision = precision_score(test_labels, test_predictions)\n",
        "recall = recall_score(test_labels, test_predictions)\n",
        "f1 = f1_score(test_labels, test_predictions)\n",
        "\n",
        "print(f\"Test Loss: {avg_test_loss:.4f}\")\n",
        "print(f\"Accuracy: {accuracy:.4f}\")\n",
        "print(f\"Precision: {precision:.4f}\")\n",
        "print(f\"Recall: {recall:.4f}\")\n",
        "print(f\"F1 Score: {f1:.4f}\")"
      ]
    },
    {
      "cell_type": "code",
      "source": [
        "def calculate_metrics(y_true, y_pred):\n",
        "    \"\"\"\n",
        "    Calculates precision, recall, F1-score, and accuracy.\n",
        "\n",
        "    Args:\n",
        "        y_true (list or numpy.ndarray): True labels (0 and 1).\n",
        "        y_pred (list or numpy.ndarray): Predicted labels (0 and 1).\n",
        "\n",
        "    Returns:\n",
        "        dict: A dictionary containing the calculated metrics.\n",
        "    \"\"\"\n",
        "    # Ensure inputs are numpy arrays for easier calculations\n",
        "    y_true = np.array(y_true)\n",
        "    y_pred = np.array(y_pred)\n",
        "\n",
        "    # 1. Confusion Matrix Components\n",
        "    #    These are the raw counts we need.\n",
        "    true_positives  = np.sum((y_true == 1) & (y_pred == 1))\n",
        "    false_positives = np.sum((y_true == 0) & (y_pred == 1))\n",
        "    true_negatives  = np.sum((y_true == 0) & (y_pred == 0))\n",
        "    false_negatives = np.sum((y_true == 1) & (y_pred == 0))\n",
        "\n",
        "    # 2. Precision\n",
        "    #    - What proportion of positive predictions were *actually* positive?\n",
        "    #    - High precision means low false positive rate (Type I error).\n",
        "    precision = true_positives / (true_positives + false_positives) if (true_positives + false_positives) > 0 else 0.0\n",
        "\n",
        "    # 3. Recall (Sensitivity, True Positive Rate)\n",
        "    #    - What proportion of *actual* positives did we correctly predict?\n",
        "    #    - High recall means low false negative rate (Type II error).\n",
        "    recall = true_positives / (true_positives + false_negatives) if (true_positives + false_negatives) > 0 else 0.0\n",
        "\n",
        "    # 4. F1-Score\n",
        "    #    - Harmonic mean of precision and recall.\n",
        "    #    - Balances precision and recall in a single metric.\n",
        "    #    - Useful when you want a trade-off between false positives and false negatives.\n",
        "    f1_score = 2 * (precision * recall) / (precision + recall) if (precision + recall) > 0 else 0.0\n",
        "\n",
        "    # 5. Accuracy\n",
        "    #    - Overall proportion of correct predictions.\n",
        "    accuracy = (true_positives + true_negatives) / len(y_true) if len(y_true) > 0 else 0.0\n",
        "\n",
        "    return {\n",
        "        'precision': precision,\n",
        "        'recall': recall,\n",
        "        'f1_score': f1_score,\n",
        "        'accuracy': accuracy,\n",
        "        'true_positives': true_positives,\n",
        "        'false_positives': false_positives,\n",
        "        'true_negatives': true_negatives,\n",
        "        'false_negatives': false_negatives\n",
        "    }\n",
        "\n",
        "def print_metrics(metrics, problem_name=\"\"):\n",
        "    \"\"\"Prints the metrics in a user-friendly format.\n",
        "\n",
        "       Args:\n",
        "          metrics (dict): A dictionary of metrics\n",
        "          problem_name (str): Optional name of the problem.\n",
        "    \"\"\"\n",
        "    if (problem_name != \"\"):\n",
        "        print(f\"Results for {problem_name}:\")\n",
        "    print(f\"  Precision:     {metrics['precision']:.4f}\")\n",
        "    print(f\"  Recall:        {metrics['recall']:.4f}\")\n",
        "    print(f\"  F1 Score:      {metrics['f1_score']:.4f}\")\n",
        "    print(f\"  Accuracy:      {metrics['accuracy']:.4f}\")\n",
        "    print(f\"  True Positives:  {metrics['true_positives']:d}\")\n",
        "    print(f\"  False Positives: {metrics['false_positives']:d}\")\n",
        "    print(f\"  True Negatives:  {metrics['true_negatives']:d}\")\n",
        "    print(f\"  False Negatives: {metrics['false_negatives']:d}\")\n",
        "\n",
        "\n",
        "\n",
        "metrics = calculate_metrics(Y_test, test_predictions)\n",
        "\n",
        "# Print the metrics\n",
        "print_metrics(metrics, \"wdbc classification\")\n",
        "\n",
        "# Example of how the metrics relate to balancing errors:\n",
        "print(\"\\nBalancing False Positives and False Negatives:\")\n",
        "print(\"  - Precision focuses on minimizing False Positives (Type I error).\")\n",
        "print(\"  - Recall focuses on minimizing False Negatives (Type II error).\")\n",
        "print(\"  - F1 Score balances both Precision and Recall.\")\n",
        "print(\"  - Accuracy measures overall correctness but doesn't differentiate between\")\n",
        "print(\"    types of errors.\")"
      ],
      "metadata": {
        "id": "EVba76wxqr5B",
        "colab": {
          "base_uri": "https://localhost:8080/"
        },
        "outputId": "ff697ce3-2281-49bb-9b5f-56b643bbd0d3"
      },
      "execution_count": 42,
      "outputs": [
        {
          "output_type": "stream",
          "name": "stdout",
          "text": [
            "Results for Example Problem:\n",
            "  Precision:     0.9394\n",
            "  Recall:        0.9841\n",
            "  F1 Score:      0.9612\n",
            "  Accuracy:      0.9708\n",
            "  True Positives:  62\n",
            "  False Positives: 4\n",
            "  True Negatives:  104\n",
            "  False Negatives: 1\n",
            "\n",
            "Balancing False Positives and False Negatives:\n",
            "  - Precision focuses on minimizing False Positives (Type I error).\n",
            "  - Recall focuses on minimizing False Negatives (Type II error).\n",
            "  - F1 Score balances both Precision and Recall.\n",
            "  - Accuracy measures overall correctness but doesn't differentiate between\n",
            "    types of errors.\n"
          ]
        }
      ]
    }
  ],
  "metadata": {
    "colab": {
      "provenance": []
    },
    "kernelspec": {
      "display_name": "Python 3",
      "name": "python3"
    },
    "language_info": {
      "name": "python"
    }
  },
  "nbformat": 4,
  "nbformat_minor": 0
}