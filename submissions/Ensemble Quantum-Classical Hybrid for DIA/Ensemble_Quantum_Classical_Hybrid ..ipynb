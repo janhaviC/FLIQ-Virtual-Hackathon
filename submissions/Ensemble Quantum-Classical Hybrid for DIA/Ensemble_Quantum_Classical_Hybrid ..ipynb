{
  "nbformat": 4,
  "nbformat_minor": 0,
  "metadata": {
    "colab": {
      "provenance": []
    },
    "kernelspec": {
      "name": "python3",
      "display_name": "Python 3"
    },
    "language_info": {
      "name": "python"
    }
  },
  "cells": [
    {
      "cell_type": "code",
      "execution_count": 1,
      "metadata": {
        "colab": {
          "base_uri": "https://localhost:8080/"
        },
        "id": "vt49aU7v-P1H",
        "outputId": "a3ae005c-2664-4684-a01a-a419ca488be8"
      },
      "outputs": [
        {
          "output_type": "stream",
          "name": "stdout",
          "text": [
            "Collecting pennylane\n",
            "  Downloading PennyLane-0.41.1-py3-none-any.whl.metadata (10 kB)\n",
            "Requirement already satisfied: shap in /usr/local/lib/python3.11/dist-packages (0.47.2)\n",
            "Requirement already satisfied: numpy in /usr/local/lib/python3.11/dist-packages (from pennylane) (2.0.2)\n",
            "Requirement already satisfied: scipy in /usr/local/lib/python3.11/dist-packages (from pennylane) (1.15.3)\n",
            "Requirement already satisfied: networkx in /usr/local/lib/python3.11/dist-packages (from pennylane) (3.4.2)\n",
            "Collecting rustworkx>=0.14.0 (from pennylane)\n",
            "  Downloading rustworkx-0.16.0-cp39-abi3-manylinux_2_17_x86_64.manylinux2014_x86_64.whl.metadata (10 kB)\n",
            "Requirement already satisfied: autograd in /usr/local/lib/python3.11/dist-packages (from pennylane) (1.8.0)\n",
            "Collecting tomlkit (from pennylane)\n",
            "  Downloading tomlkit-0.13.2-py3-none-any.whl.metadata (2.7 kB)\n",
            "Collecting appdirs (from pennylane)\n",
            "  Downloading appdirs-1.4.4-py2.py3-none-any.whl.metadata (9.0 kB)\n",
            "Collecting autoray>=0.6.11 (from pennylane)\n",
            "  Downloading autoray-0.7.1-py3-none-any.whl.metadata (5.8 kB)\n",
            "Requirement already satisfied: cachetools in /usr/local/lib/python3.11/dist-packages (from pennylane) (5.5.2)\n",
            "Collecting pennylane-lightning>=0.41 (from pennylane)\n",
            "  Downloading pennylane_lightning-0.41.1-cp311-cp311-manylinux_2_28_x86_64.whl.metadata (12 kB)\n",
            "Requirement already satisfied: requests in /usr/local/lib/python3.11/dist-packages (from pennylane) (2.32.3)\n",
            "Requirement already satisfied: typing-extensions in /usr/local/lib/python3.11/dist-packages (from pennylane) (4.13.2)\n",
            "Requirement already satisfied: packaging in /usr/local/lib/python3.11/dist-packages (from pennylane) (24.2)\n",
            "Collecting diastatic-malt (from pennylane)\n",
            "  Downloading diastatic_malt-2.15.2-py3-none-any.whl.metadata (2.6 kB)\n",
            "Requirement already satisfied: scikit-learn in /usr/local/lib/python3.11/dist-packages (from shap) (1.6.1)\n",
            "Requirement already satisfied: pandas in /usr/local/lib/python3.11/dist-packages (from shap) (2.2.2)\n",
            "Requirement already satisfied: tqdm>=4.27.0 in /usr/local/lib/python3.11/dist-packages (from shap) (4.67.1)\n",
            "Requirement already satisfied: slicer==0.0.8 in /usr/local/lib/python3.11/dist-packages (from shap) (0.0.8)\n",
            "Requirement already satisfied: numba>=0.54 in /usr/local/lib/python3.11/dist-packages (from shap) (0.60.0)\n",
            "Requirement already satisfied: cloudpickle in /usr/local/lib/python3.11/dist-packages (from shap) (3.1.1)\n",
            "Requirement already satisfied: llvmlite<0.44,>=0.43.0dev0 in /usr/local/lib/python3.11/dist-packages (from numba>=0.54->shap) (0.43.0)\n",
            "Collecting scipy-openblas32>=0.3.26 (from pennylane-lightning>=0.41->pennylane)\n",
            "  Downloading scipy_openblas32-0.3.29.0.0-py3-none-manylinux_2_17_x86_64.manylinux2014_x86_64.whl.metadata (56 kB)\n",
            "\u001b[2K     \u001b[90m━━━━━━━━━━━━━━━━━━━━━━━━━━━━━━━━━━━━━━━━\u001b[0m \u001b[32m56.1/56.1 kB\u001b[0m \u001b[31m1.8 MB/s\u001b[0m eta \u001b[36m0:00:00\u001b[0m\n",
            "\u001b[?25hRequirement already satisfied: astunparse in /usr/local/lib/python3.11/dist-packages (from diastatic-malt->pennylane) (1.6.3)\n",
            "Requirement already satisfied: gast in /usr/local/lib/python3.11/dist-packages (from diastatic-malt->pennylane) (0.6.0)\n",
            "Requirement already satisfied: termcolor in /usr/local/lib/python3.11/dist-packages (from diastatic-malt->pennylane) (3.1.0)\n",
            "Requirement already satisfied: python-dateutil>=2.8.2 in /usr/local/lib/python3.11/dist-packages (from pandas->shap) (2.9.0.post0)\n",
            "Requirement already satisfied: pytz>=2020.1 in /usr/local/lib/python3.11/dist-packages (from pandas->shap) (2025.2)\n",
            "Requirement already satisfied: tzdata>=2022.7 in /usr/local/lib/python3.11/dist-packages (from pandas->shap) (2025.2)\n",
            "Requirement already satisfied: charset-normalizer<4,>=2 in /usr/local/lib/python3.11/dist-packages (from requests->pennylane) (3.4.2)\n",
            "Requirement already satisfied: idna<4,>=2.5 in /usr/local/lib/python3.11/dist-packages (from requests->pennylane) (3.10)\n",
            "Requirement already satisfied: urllib3<3,>=1.21.1 in /usr/local/lib/python3.11/dist-packages (from requests->pennylane) (2.4.0)\n",
            "Requirement already satisfied: certifi>=2017.4.17 in /usr/local/lib/python3.11/dist-packages (from requests->pennylane) (2025.4.26)\n",
            "Requirement already satisfied: joblib>=1.2.0 in /usr/local/lib/python3.11/dist-packages (from scikit-learn->shap) (1.5.0)\n",
            "Requirement already satisfied: threadpoolctl>=3.1.0 in /usr/local/lib/python3.11/dist-packages (from scikit-learn->shap) (3.6.0)\n",
            "Requirement already satisfied: six>=1.5 in /usr/local/lib/python3.11/dist-packages (from python-dateutil>=2.8.2->pandas->shap) (1.17.0)\n",
            "Requirement already satisfied: wheel<1.0,>=0.23.0 in /usr/local/lib/python3.11/dist-packages (from astunparse->diastatic-malt->pennylane) (0.45.1)\n",
            "Downloading PennyLane-0.41.1-py3-none-any.whl (2.3 MB)\n",
            "\u001b[2K   \u001b[90m━━━━━━━━━━━━━━━━━━━━━━━━━━━━━━━━━━━━━━━━\u001b[0m \u001b[32m2.3/2.3 MB\u001b[0m \u001b[31m19.5 MB/s\u001b[0m eta \u001b[36m0:00:00\u001b[0m\n",
            "\u001b[?25hDownloading autoray-0.7.1-py3-none-any.whl (930 kB)\n",
            "\u001b[2K   \u001b[90m━━━━━━━━━━━━━━━━━━━━━━━━━━━━━━━━━━━━━━━━\u001b[0m \u001b[32m930.8/930.8 kB\u001b[0m \u001b[31m10.7 MB/s\u001b[0m eta \u001b[36m0:00:00\u001b[0m\n",
            "\u001b[?25hDownloading pennylane_lightning-0.41.1-cp311-cp311-manylinux_2_28_x86_64.whl (2.5 MB)\n",
            "\u001b[2K   \u001b[90m━━━━━━━━━━━━━━━━━━━━━━━━━━━━━━━━━━━━━━━━\u001b[0m \u001b[32m2.5/2.5 MB\u001b[0m \u001b[31m38.2 MB/s\u001b[0m eta \u001b[36m0:00:00\u001b[0m\n",
            "\u001b[?25hDownloading rustworkx-0.16.0-cp39-abi3-manylinux_2_17_x86_64.manylinux2014_x86_64.whl (2.1 MB)\n",
            "\u001b[2K   \u001b[90m━━━━━━━━━━━━━━━━━━━━━━━━━━━━━━━━━━━━━━━━\u001b[0m \u001b[32m2.1/2.1 MB\u001b[0m \u001b[31m25.5 MB/s\u001b[0m eta \u001b[36m0:00:00\u001b[0m\n",
            "\u001b[?25hDownloading appdirs-1.4.4-py2.py3-none-any.whl (9.6 kB)\n",
            "Downloading diastatic_malt-2.15.2-py3-none-any.whl (167 kB)\n",
            "\u001b[2K   \u001b[90m━━━━━━━━━━━━━━━━━━━━━━━━━━━━━━━━━━━━━━━━\u001b[0m \u001b[32m167.9/167.9 kB\u001b[0m \u001b[31m9.2 MB/s\u001b[0m eta \u001b[36m0:00:00\u001b[0m\n",
            "\u001b[?25hDownloading tomlkit-0.13.2-py3-none-any.whl (37 kB)\n",
            "Downloading scipy_openblas32-0.3.29.0.0-py3-none-manylinux_2_17_x86_64.manylinux2014_x86_64.whl (8.6 MB)\n",
            "\u001b[2K   \u001b[90m━━━━━━━━━━━━━━━━━━━━━━━━━━━━━━━━━━━━━━━━\u001b[0m \u001b[32m8.6/8.6 MB\u001b[0m \u001b[31m23.6 MB/s\u001b[0m eta \u001b[36m0:00:00\u001b[0m\n",
            "\u001b[?25hInstalling collected packages: appdirs, tomlkit, scipy-openblas32, rustworkx, autoray, diastatic-malt, pennylane-lightning, pennylane\n",
            "Successfully installed appdirs-1.4.4 autoray-0.7.1 diastatic-malt-2.15.2 pennylane-0.41.1 pennylane-lightning-0.41.1 rustworkx-0.16.0 scipy-openblas32-0.3.29.0.0 tomlkit-0.13.2\n"
          ]
        }
      ],
      "source": [
        "!pip install pennylane shap\n"
      ]
    },
    {
      "cell_type": "code",
      "source": [
        "!pip install pennylane-lightning"
      ],
      "metadata": {
        "colab": {
          "base_uri": "https://localhost:8080/"
        },
        "id": "h9S41yakIqv8",
        "outputId": "287853ac-f080-4220-f405-48c49aed14d3"
      },
      "execution_count": 2,
      "outputs": [
        {
          "output_type": "stream",
          "name": "stdout",
          "text": [
            "Requirement already satisfied: pennylane-lightning in /usr/local/lib/python3.11/dist-packages (0.41.1)\n",
            "Requirement already satisfied: pennylane>=0.41 in /usr/local/lib/python3.11/dist-packages (from pennylane-lightning) (0.41.1)\n",
            "Requirement already satisfied: scipy-openblas32>=0.3.26 in /usr/local/lib/python3.11/dist-packages (from pennylane-lightning) (0.3.29.0.0)\n",
            "Requirement already satisfied: numpy in /usr/local/lib/python3.11/dist-packages (from pennylane>=0.41->pennylane-lightning) (2.0.2)\n",
            "Requirement already satisfied: scipy in /usr/local/lib/python3.11/dist-packages (from pennylane>=0.41->pennylane-lightning) (1.15.3)\n",
            "Requirement already satisfied: networkx in /usr/local/lib/python3.11/dist-packages (from pennylane>=0.41->pennylane-lightning) (3.4.2)\n",
            "Requirement already satisfied: rustworkx>=0.14.0 in /usr/local/lib/python3.11/dist-packages (from pennylane>=0.41->pennylane-lightning) (0.16.0)\n",
            "Requirement already satisfied: autograd in /usr/local/lib/python3.11/dist-packages (from pennylane>=0.41->pennylane-lightning) (1.8.0)\n",
            "Requirement already satisfied: tomlkit in /usr/local/lib/python3.11/dist-packages (from pennylane>=0.41->pennylane-lightning) (0.13.2)\n",
            "Requirement already satisfied: appdirs in /usr/local/lib/python3.11/dist-packages (from pennylane>=0.41->pennylane-lightning) (1.4.4)\n",
            "Requirement already satisfied: autoray>=0.6.11 in /usr/local/lib/python3.11/dist-packages (from pennylane>=0.41->pennylane-lightning) (0.7.1)\n",
            "Requirement already satisfied: cachetools in /usr/local/lib/python3.11/dist-packages (from pennylane>=0.41->pennylane-lightning) (5.5.2)\n",
            "Requirement already satisfied: requests in /usr/local/lib/python3.11/dist-packages (from pennylane>=0.41->pennylane-lightning) (2.32.3)\n",
            "Requirement already satisfied: typing-extensions in /usr/local/lib/python3.11/dist-packages (from pennylane>=0.41->pennylane-lightning) (4.13.2)\n",
            "Requirement already satisfied: packaging in /usr/local/lib/python3.11/dist-packages (from pennylane>=0.41->pennylane-lightning) (24.2)\n",
            "Requirement already satisfied: diastatic-malt in /usr/local/lib/python3.11/dist-packages (from pennylane>=0.41->pennylane-lightning) (2.15.2)\n",
            "Requirement already satisfied: astunparse in /usr/local/lib/python3.11/dist-packages (from diastatic-malt->pennylane>=0.41->pennylane-lightning) (1.6.3)\n",
            "Requirement already satisfied: gast in /usr/local/lib/python3.11/dist-packages (from diastatic-malt->pennylane>=0.41->pennylane-lightning) (0.6.0)\n",
            "Requirement already satisfied: termcolor in /usr/local/lib/python3.11/dist-packages (from diastatic-malt->pennylane>=0.41->pennylane-lightning) (3.1.0)\n",
            "Requirement already satisfied: charset-normalizer<4,>=2 in /usr/local/lib/python3.11/dist-packages (from requests->pennylane>=0.41->pennylane-lightning) (3.4.2)\n",
            "Requirement already satisfied: idna<4,>=2.5 in /usr/local/lib/python3.11/dist-packages (from requests->pennylane>=0.41->pennylane-lightning) (3.10)\n",
            "Requirement already satisfied: urllib3<3,>=1.21.1 in /usr/local/lib/python3.11/dist-packages (from requests->pennylane>=0.41->pennylane-lightning) (2.4.0)\n",
            "Requirement already satisfied: certifi>=2017.4.17 in /usr/local/lib/python3.11/dist-packages (from requests->pennylane>=0.41->pennylane-lightning) (2025.4.26)\n",
            "Requirement already satisfied: wheel<1.0,>=0.23.0 in /usr/local/lib/python3.11/dist-packages (from astunparse->diastatic-malt->pennylane>=0.41->pennylane-lightning) (0.45.1)\n",
            "Requirement already satisfied: six<2.0,>=1.6.1 in /usr/local/lib/python3.11/dist-packages (from astunparse->diastatic-malt->pennylane>=0.41->pennylane-lightning) (1.17.0)\n"
          ]
        }
      ]
    },
    {
      "cell_type": "code",
      "source": [
        "import numpy as np\n",
        "import pandas as pd\n",
        "import torch\n",
        "import logging, random\n",
        "import torch.nn as nn\n",
        "from sklearn.preprocessing import StandardScaler\n",
        "from sklearn.model_selection import train_test_split\n",
        "from sklearn.decomposition import PCA\n",
        "from sklearn.linear_model import LogisticRegression\n",
        "from sklearn.ensemble import RandomForestClassifier\n",
        "from sklearn.metrics import accuracy_score, precision_score, recall_score, f1_score, roc_auc_score, confusion_matrix, ConfusionMatrixDisplay, RocCurveDisplay\n",
        "import pennylane as qml\n",
        "import matplotlib.pyplot as plt"
      ],
      "metadata": {
        "id": "M5CuH5-9wmaT"
      },
      "execution_count": 81,
      "outputs": []
    },
    {
      "cell_type": "code",
      "source": [
        "# **Operational Reliability**: Fix random seeds for reproducibility\n",
        "seed = 42\n",
        "random.seed(seed)\n",
        "np.random.seed(seed)\n",
        "torch.manual_seed(seed)\n",
        "\n",
        "# Set up basic logging for key events\n",
        "logging.basicConfig(level=logging.INFO)\n",
        "logger = logging.getLogger(__name__)\n",
        "logger.info(\"Environment initialized with seed %d\", seed)\n",
        "\n",
        "# Log versions of key libraries for reproducibility tracking\n",
        "print(f\"PyTorch version: {torch.__version__}\")\n",
        "import pennylane as qml\n",
        "print(f\"PennyLane version: {qml.version()}\")\n",
        "import shap\n",
        "print(f\"SHAP version: {shap.__version__}\")"
      ],
      "metadata": {
        "colab": {
          "base_uri": "https://localhost:8080/"
        },
        "id": "0uuo-DUvwzRZ",
        "outputId": "433ca73a-2a86-4773-e484-bc4e59718a7c"
      },
      "execution_count": 4,
      "outputs": [
        {
          "output_type": "stream",
          "name": "stdout",
          "text": [
            "PyTorch version: 2.6.0+cu124\n",
            "PennyLane version: 0.41.1\n",
            "SHAP version: 0.47.2\n"
          ]
        }
      ]
    },
    {
      "cell_type": "code",
      "source": [
        "# **Secure Data Handling**: (In production, consider encryption for sensitive data)\n",
        "# Load training and test datasets\n",
        "train_df = pd.read_csv(\"DIA_trainingset_RDKit_descriptors.csv\")\n",
        "test_df  = pd.read_csv(\"DIA_testset_RDKit_descriptors.csv\")\n",
        "\n",
        "# Separate features and labels; drop non-numeric identifiers\n",
        "X_train_full = train_df.drop(columns=[\"Label\", \"SMILES\"])\n",
        "y_train_full = train_df[\"Label\"].values  # binary labels (0 or 1)\n",
        "X_test_full  = test_df.drop(columns=[\"Label\", \"SMILES\"])\n",
        "y_test       = test_df[\"Label\"].values\n",
        "\n",
        "# Standardize features (fit on training, apply to all sets)\n",
        "scaler = StandardScaler()\n",
        "X_train_full_scaled = scaler.fit_transform(X_train_full)\n",
        "X_test_scaled       = scaler.transform(X_test_full)\n",
        "\n",
        "# Split training data into training and validation subsets\n",
        "X_train_scaled, X_val_scaled, y_train, y_val = train_test_split(\n",
        "    X_train_full_scaled, y_train_full, test_size=0.15, stratify=y_train_full, random_state=seed\n",
        ")\n",
        "\n",
        "# Reduce dimensionality with PCA (keep top 5 components for quantum input)\n",
        "pca = PCA(n_components=5, random_state=seed)\n",
        "X_train = pca.fit_transform(X_train_scaled)\n",
        "X_val   = pca.transform(X_val_scaled)\n",
        "X_test  = pca.transform(X_test_scaled)\n",
        "\n",
        "print(\"Training samples:\", X_train.shape[0], \"| Features (PCA components):\", X_train.shape[1])\n",
        "print(\"Validation samples:\", X_val.shape[0], \"| Test samples:\", X_test.shape[0])"
      ],
      "metadata": {
        "colab": {
          "base_uri": "https://localhost:8080/"
        },
        "id": "BkPe9TvTx6xd",
        "outputId": "4733b48c-820d-4cf2-d297-306f61bb56b3"
      },
      "execution_count": 5,
      "outputs": [
        {
          "output_type": "stream",
          "name": "stdout",
          "text": [
            "Training samples: 405 | Features (PCA components): 5\n",
            "Validation samples: 72 | Test samples: 120\n"
          ]
        }
      ]
    },
    {
      "cell_type": "code",
      "source": [
        "from functools import partial"
      ],
      "metadata": {
        "id": "gdmjMj3yBAvp"
      },
      "execution_count": 46,
      "outputs": []
    },
    {
      "cell_type": "code",
      "source": [
        "# 1) Hyperparameters & Device\n",
        "n_qubits   = 5\n",
        "n_layers   = 4\n",
        "batch_size = 32\n",
        "\n",
        "# Lightning simulator for fast analytic (adjoint) gradients\n",
        "dev = qml.device(\"lightning.qubit\", wires=n_qubits)\n",
        "\n",
        "# 2) QNode: per-sample, no batch magic\n",
        "@qml.qnode(dev, interface=\"torch\", diff_method=\"adjoint\")\n",
        "def qnode(inputs, weights, shift):\n",
        "    # inputs: tensor of shape (n_qubits,)\n",
        "    # weights: (n_layers, n_qubits, 3)\n",
        "    # shift:   (n_qubits,)\n",
        "    # 2a) Embed with trainable shift\n",
        "    for i in range(n_qubits):\n",
        "        qml.RY(inputs[i] + shift[i], wires=i)\n",
        "    # 2b) Variational layers\n",
        "    for layer in range(n_layers):\n",
        "        for wire in range(n_qubits):\n",
        "            a, b, c = weights[layer, wire]\n",
        "            qml.Rot(a, b, c, wires=wire)\n",
        "        # ring entanglement\n",
        "        for wire in range(n_qubits - 1):\n",
        "            qml.CNOT(wires=[wire, wire+1])\n",
        "        qml.CNOT(wires=[n_qubits-1, 0])\n",
        "    # 2c) Readout\n",
        "    return qml.expval(qml.PauliZ(0))"
      ],
      "metadata": {
        "id": "VyycS0U8Cak5"
      },
      "execution_count": 69,
      "outputs": []
    },
    {
      "cell_type": "code",
      "source": [
        "# 3) Wrap QNode into a TorchLayer\n",
        "weight_shapes = {\n",
        "    \"weights\": (n_layers, n_qubits, 3),\n",
        "    \"shift\":   (n_qubits,)\n",
        "}\n",
        "qlayer = qml.qnn.TorchLayer(qnode, weight_shapes)\n",
        "\n",
        "# 4) Define HybridQNN with per-sample loop\n",
        "class HybridQNN(nn.Module):\n",
        "    def __init__(self, qlayer, n_qubits=5):\n",
        "        super().__init__()\n",
        "        self.qlayer   = qlayer\n",
        "        self.n_qubits = n_qubits\n",
        "        # Tiny classical head\n",
        "        self.head     = nn.Sequential(\n",
        "            nn.Linear(1, 16),\n",
        "            nn.ReLU(),\n",
        "            nn.Linear(16, 1),\n",
        "        )\n",
        "\n",
        "    def forward(self, x):\n",
        "        # x: (batch_size, n_qubits) or (n_qubits,)\n",
        "        if x.ndim == 1:\n",
        "            x = x.unsqueeze(0)\n",
        "        bs, fq = x.shape\n",
        "        assert fq == self.n_qubits, f\"Expected {self.n_qubits} features, got {fq}\"\n",
        "        # Per-sample quantum pass\n",
        "        out = []\n",
        "        for i in range(bs):\n",
        "            qi = self.qlayer(x[i])        # returns scalar tensor\n",
        "            out.append(qi.squeeze())\n",
        "        qout = torch.stack(out)           # (batch_size,)\n",
        "        qout = qout.unsqueeze(1)          # (batch_size,1)\n",
        "        return self.head(qout).squeeze(1) # (batch_size,)"
      ],
      "metadata": {
        "id": "NcTcZ6XYBYGB"
      },
      "execution_count": 70,
      "outputs": []
    },
    {
      "cell_type": "code",
      "source": [
        "# 5) Instantiate model, loss, optimizer\n",
        "model = HybridQNN(qlayer, n_qubits)\n",
        "neg, pos = (y_train == 0).sum(), (y_train == 1).sum()\n",
        "pos_weight = torch.tensor([neg/pos], dtype=torch.float32)\n",
        "criterion  = nn.BCEWithLogitsLoss(pos_weight=pos_weight)\n",
        "optimizer  = torch.optim.Adam(model.parameters(), lr=1e-2)\n",
        "\n",
        "# 6) DataLoader (you’ve already created these)\n",
        "from torch.utils.data import TensorDataset, DataLoader\n",
        "X_train_t = torch.tensor(X_train, dtype=torch.float32)\n",
        "y_train_t = torch.tensor(y_train, dtype=torch.float32)\n",
        "X_val_t   = torch.tensor(X_val,   dtype=torch.float32)\n",
        "y_val_t   = torch.tensor(y_val,   dtype=torch.float32)\n",
        "train_loader = DataLoader(\n",
        "    TensorDataset(X_train_t, y_train_t),\n",
        "    batch_size=batch_size, shuffle=True,\n",
        "    generator=torch.Generator().manual_seed(42)\n",
        ")\n"
      ],
      "metadata": {
        "id": "ghVlMB2OE2qD"
      },
      "execution_count": 71,
      "outputs": []
    },
    {
      "cell_type": "code",
      "source": [
        "# --- 2) Function to train one QNN with a given random seed ---\n",
        "def train_qnn(seed):\n",
        "    torch.manual_seed(seed)\n",
        "    np.random.seed(seed)\n",
        "\n",
        "    # Re-instantiate quantum layer & model\n",
        "    qlayer_i = qml.qnn.TorchLayer(qnode, weight_shapes)\n",
        "    model_i  = HybridQNN(qlayer_i, n_qubits)\n",
        "    optimizer = torch.optim.Adam(model_i.parameters(), lr=1e-2)\n",
        "    criterion = torch.nn.BCEWithLogitsLoss()\n",
        "\n",
        "    # DataLoader (reshuffle per model)\n",
        "    train_loader_i = torch.utils.data.DataLoader(\n",
        "        torch.utils.data.TensorDataset(X_train_t, y_train_t),\n",
        "        batch_size=32, shuffle=True,\n",
        "        generator=torch.Generator().manual_seed(seed)\n",
        "    )\n",
        "\n",
        "    # Simple 15-epoch train (you can increase)\n",
        "    model_i.train()\n",
        "    for epoch in range(15):\n",
        "        for Xb, yb in train_loader_i:\n",
        "            optimizer.zero_grad()\n",
        "            logits = model_i(Xb)\n",
        "            loss   = criterion(logits, yb)\n",
        "            loss.backward()\n",
        "            optimizer.step()\n",
        "\n",
        "    return model_i\n",
        "\n",
        "# 4a) Fit Logistic Regression on your PCA features\n",
        "lr_model = LogisticRegression(solver=\"lbfgs\", max_iter=1000, random_state=0)\n",
        "lr_model.fit(X_train, y_train)\n",
        "lr_probs = lr_model.predict_proba(X_test)[:, 1]   # positive‐class probs\n",
        "\n",
        "# 4b) Fit Random Forest\n",
        "rf_model = RandomForestClassifier(n_estimators=100, random_state=0)\n",
        "rf_model.fit(X_train, y_train)\n",
        "rf_probs = rf_model.predict_proba(X_test)[:, 1]\n",
        "# ────────────────────────────────────────────────────────────────\n",
        "\n",
        "# --- 5) Combine with classical baselines ---\n",
        "combined_probs = (\n",
        "    0.50 * ensemble_qnn_probs +\n",
        "    0.25 * lr_probs +\n",
        "    0.25 * rf_probs\n",
        ")\n",
        "\n",
        "# --- 6) Tune threshold on VALIDATION set using the same ensemble mixing ---\n",
        "# First compute validation probs for each component\n",
        "with torch.no_grad():\n",
        "    val_qnn_probs = np.mean(\n",
        "        [torch.sigmoid(m(X_val_t)).cpu().numpy() for m in qnn_models],\n",
        "        axis=0\n",
        "    )\n",
        "val_lr_probs = lr_model.predict_proba(X_val)[:,1]\n",
        "val_rf_probs = rf_model.predict_proba(X_val)[:,1]\n",
        "\n",
        "val_combined_probs = (\n",
        "    0.50 * val_qnn_probs +\n",
        "    0.25 * val_lr_probs +\n",
        "    0.25 * val_rf_probs\n",
        ")\n",
        "\n",
        "best_f1, best_thr = 0, 0.5\n",
        "for thr in np.linspace(0.1, 0.9, 17):\n",
        "    preds = (val_combined_probs >= thr).astype(int)\n",
        "    f1 = f1_score(y_val, preds)\n",
        "    if f1 > best_f1:\n",
        "        best_f1, best_thr = f1, thr\n",
        "\n",
        "print(f\"Chosen threshold = {best_thr:.2f} → Val F1 = {best_f1:.3f}\")\n",
        "\n",
        "# --- 7) Final evaluation on TEST set at best_thr ---\n",
        "final_preds = (combined_probs >= best_thr).astype(int)\n",
        "print(\"ENSEMBLE Test Metrics:\")\n",
        "print(\" Accuracy :\", accuracy_score(y_test, final_preds))\n",
        "print(\" Precision:\", precision_score(y_test, final_preds))\n",
        "print(\" Recall   :\", recall_score(y_test, final_preds))\n",
        "print(\" F1 Score :\", f1_score(y_test, final_preds))\n",
        "print(\" AUC      :\", roc_auc_score(y_test, combined_probs))"
      ],
      "metadata": {
        "colab": {
          "base_uri": "https://localhost:8080/"
        },
        "id": "5hbAWZv3O6HX",
        "outputId": "729424d6-3a80-4191-b281-8763ca0eb574"
      },
      "execution_count": 87,
      "outputs": [
        {
          "output_type": "stream",
          "name": "stdout",
          "text": [
            "Chosen threshold = 0.30 → Val F1 = 0.540\n",
            "ENSEMBLE Test Metrics:\n",
            " Accuracy : 0.6\n",
            " Precision: 0.37142857142857144\n",
            " Recall   : 0.8666666666666667\n",
            " F1 Score : 0.52\n",
            " AUC      : 0.6814814814814816\n"
          ]
        }
      ]
    },
    {
      "cell_type": "code",
      "source": [
        "from sklearn.metrics import confusion_matrix, ConfusionMatrixDisplay\n",
        "import matplotlib.pyplot as plt\n",
        "\n",
        "# 1) Compute confusion matrix\n",
        "cm = confusion_matrix(y_test, test_preds)\n",
        "tn, fp, fn, tp = cm.ravel()\n",
        "\n",
        "# 2) Print the raw counts\n",
        "print(\"Confusion Matrix Counts:\")\n",
        "print(f\"  True Negatives : {tn}\")\n",
        "print(f\"  False Positives: {fp}\")\n",
        "print(f\"  False Negatives: {fn}\")\n",
        "print(f\"  True Positives : {tp}\")\n",
        "\n",
        "# 3) Display visually\n",
        "disp = ConfusionMatrixDisplay(confusion_matrix=cm, display_labels=[0, 1])\n",
        "fig, ax = plt.subplots(figsize=(5, 5))\n",
        "disp.plot(ax=ax, cmap=\"Blues\")\n",
        "plt.show()\n"
      ],
      "metadata": {
        "colab": {
          "base_uri": "https://localhost:8080/",
          "height": 514
        },
        "id": "m3bix_DbgXhu",
        "outputId": "3f9e53e9-3758-48e3-d4ca-08b1240f5b61"
      },
      "execution_count": 91,
      "outputs": [
        {
          "output_type": "stream",
          "name": "stdout",
          "text": [
            "Confusion Matrix Counts:\n",
            "  True Negatives : 64\n",
            "  False Positives: 26\n",
            "  False Negatives: 21\n",
            "  True Positives : 9\n"
          ]
        },
        {
          "output_type": "display_data",
          "data": {
            "text/plain": [
              "<Figure size 500x500 with 2 Axes>"
            ],
            "image/png": "[encoded data removed]"
          },
          "metadata": {}
        }
      ]
    },
    {
      "cell_type": "code",
      "source": [
        "# Right after you load & split + PCA your NumPy arrays:\n",
        "print(\"X_train (np) shape:\", X_train.shape)\n",
        "print(\"y_train (np) shape:\", y_train.shape)\n",
        "print(\"X_val   (np) shape:\", X_val.shape)\n",
        "print(\"y_val   (np) shape:\", y_val.shape)\n",
        "print(\"X_test  (np) shape:\", X_test.shape)\n",
        "print(\"y_test  (np) shape:\", y_test.shape)\n",
        "\n",
        "# If anything looks off (e.g. zero rows, or features ≠ 5), go back and re-run your preprocessing cell.\n",
        "\n",
        "# Now, after converting to tensors but before DataLoader:\n",
        "X_train_tensor = torch.tensor(X_train, dtype=torch.float32)\n",
        "y_train_tensor = torch.tensor(y_train, dtype=torch.float32)\n",
        "print(\"X_train_tensor shape:\", X_train_tensor.shape)\n",
        "print(\"y_train_tensor shape:\", y_train_tensor.shape)\n",
        "\n",
        "# And right after you create your DataLoader:\n",
        "from torch.utils.data import TensorDataset, DataLoader\n",
        "train_ds     = TensorDataset(X_train_tensor, y_train_tensor)\n",
        "train_loader = DataLoader(train_ds, batch_size=32, shuffle=True, generator=torch.Generator().manual_seed(seed))\n",
        "print(\"Number of batches in train_loader:\", len(train_loader))\n",
        "print(\"Size of first batch Xb:\", next(iter(train_loader))[0].shape)\n"
      ],
      "metadata": {
        "colab": {
          "base_uri": "https://localhost:8080/"
        },
        "id": "Wb0iP5ZJEP0W",
        "outputId": "0d77a8b7-f2d7-4cc8-92d7-073e40842096"
      },
      "execution_count": 83,
      "outputs": [
        {
          "output_type": "stream",
          "name": "stdout",
          "text": [
            "X_train (np) shape: (405, 5)\n",
            "y_train (np) shape: (405,)\n",
            "X_val   (np) shape: (72, 5)\n",
            "y_val   (np) shape: (72,)\n",
            "X_test  (np) shape: (120, 5)\n",
            "y_test  (np) shape: (120,)\n",
            "X_train_tensor shape: torch.Size([405, 5])\n",
            "y_train_tensor shape: torch.Size([405])\n",
            "Number of batches in train_loader: 13\n",
            "Size of first batch Xb: torch.Size([32, 5])\n"
          ]
        }
      ]
    },
    {
      "cell_type": "code",
      "source": [
        "# 1) Extract molecular weights and define proxy groups\n",
        "molwts = test_df[\"MolWt\"].values\n",
        "median_molwt = np.median(molwts)\n",
        "heavy_mask = molwts > median_molwt    # Group A: “heavy” molecules\n",
        "light_mask = molwts <= median_molwt   # Group B: “light” molecules\n",
        "\n",
        "# 2) Compute positive‐prediction rates in each group\n",
        "#    ‘test_preds’ is your final ensemble’s binary predictions\n",
        "pos_rate_heavy = test_preds[heavy_mask].mean()\n",
        "pos_rate_light = test_preds[light_mask].mean()\n",
        "disparate_impact = min(pos_rate_heavy, pos_rate_light) / max(pos_rate_heavy, pos_rate_light)\n",
        "\n",
        "# 3) Compute misclassification (error) rates in each group\n",
        "y_test_array = np.array(y_test)  # ensure NumPy array for indexing\n",
        "error_rate_heavy = 1 - accuracy_score(y_test_array[heavy_mask], test_preds[heavy_mask])\n",
        "error_rate_light = 1 - accuracy_score(y_test_array[light_mask], test_preds[light_mask])\n",
        "\n",
        "# 4) Report results\n",
        "print(f\"Positive prediction rate – Heavy: {pos_rate_heavy:.3f}, Light: {pos_rate_light:.3f}\")\n",
        "print(f\"Disparate Impact Ratio (Heavy vs Light): {disparate_impact:.3f}\")\n",
        "print(f\"Error rate – Heavy group: {error_rate_heavy:.3f}, Light group: {error_rate_light:.3f}\")"
      ],
      "metadata": {
        "id": "fduO8ry90FtO",
        "colab": {
          "base_uri": "https://localhost:8080/"
        },
        "outputId": "62d987da-61bc-432c-cfff-03102ccde789"
      },
      "execution_count": 92,
      "outputs": [
        {
          "output_type": "stream",
          "name": "stdout",
          "text": [
            "Positive prediction rate – Heavy: 0.250, Light: 0.333\n",
            "Disparate Impact Ratio (Heavy vs Light): 0.750\n",
            "Error rate – Heavy group: 0.333, Light group: 0.450\n"
          ]
        }
      ]
    },
    {
      "cell_type": "code",
      "source": [
        "# Ensure model is in eval mode\n",
        "model.eval()\n",
        "\n",
        "epsilons = [0.0, 0.05, 0.1, 0.2]\n",
        "print(\"\\nAdversarial FGSM Attack Evaluation:\")\n",
        "for eps in epsilons:\n",
        "    correct = 0\n",
        "    # Loop over each test sample\n",
        "    for i in range(len(X_test)):\n",
        "        # 1) Prepare input and label\n",
        "        x_orig = torch.tensor(X_test[i], dtype=torch.float32).unsqueeze(0)  # (1, n_qubits)\n",
        "        y_true = y_test[i]\n",
        "\n",
        "        # 2) Compute gradient w.rt input\n",
        "        x_adv = x_orig.clone().detach().requires_grad_(True)\n",
        "        logit = model(x_adv)                                             # forward pass\n",
        "        loss  = criterion(logit, torch.tensor([y_true], dtype=torch.float32))\n",
        "        model.zero_grad()\n",
        "        loss.backward()\n",
        "        grad_sign = x_adv.grad.sign()                                     # FGSM direction\n",
        "\n",
        "        # 3) Create adversarial example\n",
        "        x_perturbed = x_orig + eps * grad_sign\n",
        "\n",
        "        # 4) Evaluate perturbed example\n",
        "        with torch.no_grad():\n",
        "            adv_prob = torch.sigmoid(model(x_perturbed)).item()\n",
        "        adv_pred = 1 if adv_prob >= 0.5 else 0\n",
        "\n",
        "        # 5) Check correctness\n",
        "        if adv_pred == int(y_true):\n",
        "            correct += 1\n",
        "\n",
        "    adv_acc = correct / len(X_test)\n",
        "    print(f\"  Epsilon = {eps:.2f} -> Adversarial Accuracy = {adv_acc:.3f}\")"
      ],
      "metadata": {
        "id": "qGNi9Vz10Ia4",
        "colab": {
          "base_uri": "https://localhost:8080/"
        },
        "outputId": "9d624058-3324-4695-b0b1-8271b008db6d"
      },
      "execution_count": 93,
      "outputs": [
        {
          "output_type": "stream",
          "name": "stdout",
          "text": [
            "\n",
            "Adversarial FGSM Attack Evaluation:\n",
            "  Epsilon = 0.00 -> Adversarial Accuracy = 0.600\n",
            "  Epsilon = 0.05 -> Adversarial Accuracy = 0.575\n",
            "  Epsilon = 0.10 -> Adversarial Accuracy = 0.533\n",
            "  Epsilon = 0.20 -> Adversarial Accuracy = 0.458\n"
          ]
        }
      ]
    },
    {
      "cell_type": "code",
      "source": [
        "import joblib\n",
        "\n",
        "# 1) Save QNN weights (three models)\n",
        "for idx, model in enumerate(qnn_models):\n",
        "    torch.save(model.state_dict(), f\"qnn_model_{idx}.pth\")\n",
        "\n",
        "# 2) Save classical models (scaler, PCA, LR, RF)\n",
        "joblib.dump(scaler, \"scaler.pkl\")\n",
        "joblib.dump(pca,    \"pca.pkl\")\n",
        "joblib.dump(lr_model, \"logistic_model.joblib\")\n",
        "joblib.dump(rf_model, \"rf_model.joblib\")\n",
        "\n",
        "print(\"All models and preprocessors saved.\")"
      ],
      "metadata": {
        "colab": {
          "base_uri": "https://localhost:8080/"
        },
        "id": "pDN5aDV1jWDb",
        "outputId": "2bbf9d72-9211-49d6-e6b9-7bfa64c671fa"
      },
      "execution_count": 95,
      "outputs": [
        {
          "output_type": "stream",
          "name": "stdout",
          "text": [
            "All models and preprocessors saved.\n"
          ]
        }
      ]
    }
  ]
}